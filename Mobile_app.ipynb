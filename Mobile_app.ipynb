{
 "cells": [
  {
   "cell_type": "markdown",
   "metadata": {},
   "source": [
    "# Mobile Application analysis\n",
    "\n",
    "This project is about analyze mobile application data on both IOS and android that attract more user in order to make more revenue from in-ads advertisement.Our goal for this project is to analyze data to help our developers understand what type of apps are likely to attract more users."
   ]
  },
  {
   "cell_type": "markdown",
   "metadata": {},
   "source": [
    "First, read data from files"
   ]
  },
  {
   "cell_type": "code",
   "execution_count": null,
   "metadata": {},
   "outputs": [],
   "source": [
    "open_IOS_file = open('C:/Users/dowre/GIT/Mobile app project/AppleStore.csv', encoding=\"utf8\")\n",
    "open_Android_file = open('C:/Users/dowre/GIT/Mobile app project/googleplaystore.csv', encoding=\"utf8\")"
   ]
  },
  {
   "cell_type": "code",
   "execution_count": 2,
   "metadata": {},
   "outputs": [],
   "source": [
    "from csv import reader\n",
    "### The Google Play data set ###\n",
    "\n",
    "read_file = reader(open_Android_file)\n",
    "android = list(read_file)\n",
    "android_header = android[0]\n",
    "android = android[1:]\n",
    "\n",
    "### The App Store data set ###\n",
    "\n",
    "read_file = reader(open_IOS_file)\n",
    "ios = list(read_file)\n",
    "ios_header = ios[0]\n",
    "ios = ios[1:]\n"
   ]
  },
  {
   "cell_type": "markdown",
   "metadata": {},
   "source": [
    "Build a function that allows you to see some specific part of the file after modification."
   ]
  },
  {
   "cell_type": "code",
   "execution_count": 3,
   "metadata": {},
   "outputs": [],
   "source": [
    "def explore_data(dataset,start,end,rows_and_columns=False):\n",
    "    dataset_slice = dataset[start:end]\n",
    "    for row in dataset_slice:\n",
    "        print(row)\n",
    "        print('\\n') #add a new (empty) line after each row \n",
    "    if rows_and_columns:\n",
    "        print('Number of rows:',len(dataset))\n",
    "        print('Number of columns:', len(dataset[0]))"
   ]
  },
  {
   "cell_type": "markdown",
   "metadata": {},
   "source": [
    "Check out a few first rows of data in both files. Also check total number of rows and columns."
   ]
  },
  {
   "cell_type": "code",
   "execution_count": 4,
   "metadata": {},
   "outputs": [
    {
     "name": "stdout",
     "output_type": "stream",
     "text": [
      "['284882215', 'Facebook', '389879808', 'USD', '0', '2974676', '212', '3.5', '3.5', '95', '4+', 'Social Networking', '37', '1', '29', '1', '']\n",
      "\n",
      "\n",
      "['389801252', 'Instagram', '113954816', 'USD', '0', '2161558', '1289', '4.5', '4', '10.23', '12+', 'Photo & Video', '37', '0', '29', '1', '']\n",
      "\n",
      "\n",
      "Number of rows: 7197\n",
      "Number of columns: 17\n",
      "['Photo Editor & Candy Camera & Grid & ScrapBook', 'ART_AND_DESIGN', '4.1', '159', '19M', '10,000+', 'Free', '0', 'Everyone', 'Art & Design', 'January 7, 2018', '1.0.0', '4.0.3 and up']\n",
      "\n",
      "\n",
      "['Coloring book moana', 'ART_AND_DESIGN', '3.9', '967', '14M', '500,000+', 'Free', '0', 'Everyone', 'Art & Design;Pretend Play', 'January 15, 2018', '2.0.0', '4.0.3 and up']\n",
      "\n",
      "\n",
      "Number of rows: 10841\n",
      "Number of columns: 13\n"
     ]
    }
   ],
   "source": [
    "explore_data(ios,0,2,rows_and_columns=True)\n",
    "explore_data(android,0,2,rows_and_columns=True)"
   ]
  },
  {
   "cell_type": "code",
   "execution_count": 5,
   "metadata": {},
   "outputs": [
    {
     "data": {
      "text/plain": [
       "10841"
      ]
     },
     "execution_count": 5,
     "metadata": {},
     "output_type": "execute_result"
    }
   ],
   "source": [
    "len(android)"
   ]
  },
  {
   "cell_type": "code",
   "execution_count": 6,
   "metadata": {},
   "outputs": [
    {
     "data": {
      "text/plain": [
       "7197"
      ]
     },
     "execution_count": 6,
     "metadata": {},
     "output_type": "execute_result"
    }
   ],
   "source": [
    "len(ios)"
   ]
  },
  {
   "cell_type": "markdown",
   "metadata": {},
   "source": [
    "**Check out column name of both files**\n",
    "\n",
    "Please see the following link for more descriptions of each column names.\n",
    "- For [IOS](https://www.kaggle.com/ramamet4/app-store-apple-data-set-10k-apps) \n",
    "- For [Android](https://www.kaggle.com/lava18/google-play-store-apps)"
   ]
  },
  {
   "cell_type": "code",
   "execution_count": 7,
   "metadata": {},
   "outputs": [
    {
     "name": "stdout",
     "output_type": "stream",
     "text": [
      "['id', 'track_name', 'size_bytes', 'currency', 'price', 'rating_count_tot', 'rating_count_ver', 'user_rating', 'user_rating_ver', 'ver', 'cont_rating', 'prime_genre', 'sup_devices.num', 'ipadSc_urls.num', 'lang.num', 'vpp_lic', '']\n"
     ]
    }
   ],
   "source": [
    "print(ios_header)"
   ]
  },
  {
   "cell_type": "code",
   "execution_count": 8,
   "metadata": {},
   "outputs": [
    {
     "name": "stdout",
     "output_type": "stream",
     "text": [
      "['App', 'Category', 'Rating', 'Reviews', 'Size', 'Installs', 'Type', 'Price', 'Content Rating', 'Genres', 'Last Updated', 'Current Ver', 'Android Ver']\n"
     ]
    }
   ],
   "source": [
    "print(android_header)"
   ]
  },
  {
   "cell_type": "markdown",
   "metadata": {},
   "source": [
    "## Data Cleaning\n",
    "\n",
    "### 1. Explore each row length to verify missing value in Android and IOS data set."
   ]
  },
  {
   "cell_type": "markdown",
   "metadata": {},
   "source": [
    "Define the function to check length in each row"
   ]
  },
  {
   "cell_type": "code",
   "execution_count": 9,
   "metadata": {},
   "outputs": [],
   "source": [
    "def lenght_check(row,store):\n",
    "    length = 0\n",
    "    if store == 'google':\n",
    "        #selected_store = 'google'\n",
    "        length = 13\n",
    "    elif store == 'apple':\n",
    "        #selected_store = 'apple'\n",
    "        length =  16\n",
    "    else:\n",
    "        return print(\"Wrong App Store name. Only 'google' and  'apple' are valid\")\n",
    "    if len(row) != length:\n",
    "        return False\n",
    "    return True"
   ]
  },
  {
   "cell_type": "code",
   "execution_count": 10,
   "metadata": {},
   "outputs": [
    {
     "data": {
      "text/plain": [
       "False"
      ]
     },
     "execution_count": 10,
     "metadata": {},
     "output_type": "execute_result"
    }
   ],
   "source": [
    "lenght_check(ios[5645], 'apple')"
   ]
  },
  {
   "cell_type": "code",
   "execution_count": 11,
   "metadata": {},
   "outputs": [
    {
     "name": "stdout",
     "output_type": "stream",
     "text": [
      "['454136236', 'STEINS', 'GATE', '1551412224', 'USD', '24.99', '16', '0', '4', '0', '1.71', '12+', 'Games', '37', '0', '1', '1']\n"
     ]
    }
   ],
   "source": [
    "print(ios[5645])"
   ]
  },
  {
   "cell_type": "code",
   "execution_count": 12,
   "metadata": {},
   "outputs": [
    {
     "data": {
      "text/plain": [
       "17"
      ]
     },
     "execution_count": 12,
     "metadata": {},
     "output_type": "execute_result"
    }
   ],
   "source": [
    "len(ios[5645])"
   ]
  },
  {
   "cell_type": "code",
   "execution_count": 13,
   "metadata": {},
   "outputs": [
    {
     "data": {
      "text/plain": [
       "False"
      ]
     },
     "execution_count": 13,
     "metadata": {},
     "output_type": "execute_result"
    }
   ],
   "source": [
    "lenght_check(android[10472], 'google')"
   ]
  },
  {
   "cell_type": "code",
   "execution_count": 14,
   "metadata": {},
   "outputs": [
    {
     "data": {
      "text/plain": [
       "12"
      ]
     },
     "execution_count": 14,
     "metadata": {},
     "output_type": "execute_result"
    }
   ],
   "source": [
    "len(android[10472])"
   ]
  },
  {
   "cell_type": "code",
   "execution_count": 15,
   "metadata": {},
   "outputs": [
    {
     "data": {
      "text/plain": [
       "False"
      ]
     },
     "execution_count": 15,
     "metadata": {},
     "output_type": "execute_result"
    }
   ],
   "source": [
    "lenght_check(ios[1], 'apple')"
   ]
  },
  {
   "cell_type": "code",
   "execution_count": 16,
   "metadata": {},
   "outputs": [
    {
     "data": {
      "text/plain": [
       "str"
      ]
     },
     "execution_count": 16,
     "metadata": {},
     "output_type": "execute_result"
    }
   ],
   "source": [
    "type(ios[1][4])"
   ]
  },
  {
   "cell_type": "code",
   "execution_count": 17,
   "metadata": {},
   "outputs": [
    {
     "name": "stdout",
     "output_type": "stream",
     "text": [
      "['389801252', 'Instagram', '113954816', 'USD', '0', '2161558', '1289', '4.5', '4', '10.23', '12+', 'Photo & Video', '37', '0', '29', '1', '']\n"
     ]
    }
   ],
   "source": [
    "print(ios[1])"
   ]
  },
  {
   "cell_type": "code",
   "execution_count": 18,
   "metadata": {},
   "outputs": [
    {
     "data": {
      "text/plain": [
       "17"
      ]
     },
     "execution_count": 18,
     "metadata": {},
     "output_type": "execute_result"
    }
   ],
   "source": [
    "len(ios[1])"
   ]
  },
  {
   "cell_type": "code",
   "execution_count": 19,
   "metadata": {},
   "outputs": [],
   "source": [
    "def row_check(data_set,store):\n",
    "    #selected_store =''\n",
    "    length = 0\n",
    "    if store == 'google':\n",
    "        #selected_store = 'google'\n",
    "        length = 13\n",
    "    elif store == 'apple':\n",
    "        #selected_store = 'apple'\n",
    "        length =  16\n",
    "    else:\n",
    "        return print(\"Wrong App Store name. Only 'google' and  'apple' are valid\")\n",
    "    for app in data_set:\n",
    "        incomplete_app_index = 0\n",
    "        incomplete_app_index_list =[]\n",
    "        if len(app) != length:\n",
    "            incomplete_app_index = data_set.index(app)\n",
    "            incomplete_app_index_list.append(incomplete_app_index)\n",
    "    return incomplete_app_index_list"
   ]
  },
  {
   "cell_type": "markdown",
   "metadata": {},
   "source": [
    "Apply the function to andriod data set"
   ]
  },
  {
   "cell_type": "code",
   "execution_count": 20,
   "metadata": {},
   "outputs": [
    {
     "data": {
      "text/plain": [
       "[]"
      ]
     },
     "execution_count": 20,
     "metadata": {},
     "output_type": "execute_result"
    }
   ],
   "source": [
    "row_check(android,'google')"
   ]
  },
  {
   "cell_type": "markdown",
   "metadata": {},
   "source": [
    "There is one missing data row which is number 10472. Check out the missing data row."
   ]
  },
  {
   "cell_type": "code",
   "execution_count": 21,
   "metadata": {},
   "outputs": [
    {
     "name": "stdout",
     "output_type": "stream",
     "text": [
      "['Life Made WI-Fi Touchscreen Photo Frame', '1.9', '19', '3.0M', '1,000+', 'Free', '0', 'Everyone', '', 'February 11, 2018', '1.0.19', '4.0 and up']\n"
     ]
    }
   ],
   "source": [
    "print(android[10472])"
   ]
  },
  {
   "cell_type": "code",
   "execution_count": 22,
   "metadata": {},
   "outputs": [
    {
     "data": {
      "text/plain": [
       "12"
      ]
     },
     "execution_count": 22,
     "metadata": {},
     "output_type": "execute_result"
    }
   ],
   "source": [
    "len(android[10472])"
   ]
  },
  {
   "cell_type": "markdown",
   "metadata": {},
   "source": [
    "Delete the row that contain missing value"
   ]
  },
  {
   "cell_type": "code",
   "execution_count": 23,
   "metadata": {},
   "outputs": [],
   "source": [
    "#Do not run more than one time\n",
    "del android[10472]"
   ]
  },
  {
   "cell_type": "markdown",
   "metadata": {},
   "source": [
    "Check deleting result"
   ]
  },
  {
   "cell_type": "code",
   "execution_count": 24,
   "metadata": {},
   "outputs": [
    {
     "data": {
      "text/plain": [
       "[]"
      ]
     },
     "execution_count": 24,
     "metadata": {},
     "output_type": "execute_result"
    }
   ],
   "source": [
    "row_check(android,'google')"
   ]
  },
  {
   "cell_type": "markdown",
   "metadata": {},
   "source": [
    "There is no row with missing value.\n",
    "\n",
    "Check the length of the file. "
   ]
  },
  {
   "cell_type": "code",
   "execution_count": 25,
   "metadata": {},
   "outputs": [
    {
     "data": {
      "text/plain": [
       "10840"
      ]
     },
     "execution_count": 25,
     "metadata": {},
     "output_type": "execute_result"
    }
   ],
   "source": [
    "len(android)"
   ]
  },
  {
   "cell_type": "markdown",
   "metadata": {},
   "source": [
    "The lenght is decreased by one"
   ]
  },
  {
   "cell_type": "markdown",
   "metadata": {},
   "source": [
    "Apply the function to IOS data set"
   ]
  },
  {
   "cell_type": "code",
   "execution_count": 26,
   "metadata": {},
   "outputs": [
    {
     "data": {
      "text/plain": [
       "[7196]"
      ]
     },
     "execution_count": 26,
     "metadata": {},
     "output_type": "execute_result"
    }
   ],
   "source": [
    "row_check(ios,'apple')"
   ]
  },
  {
   "cell_type": "markdown",
   "metadata": {},
   "source": [
    "There is no row that contain missing value in IOS dataset"
   ]
  },
  {
   "cell_type": "markdown",
   "metadata": {},
   "source": [
    "### 2. Explore the duplicate data "
   ]
  },
  {
   "cell_type": "markdown",
   "metadata": {},
   "source": [
    "Check the example duplicated data in Android file"
   ]
  },
  {
   "cell_type": "code",
   "execution_count": 27,
   "metadata": {},
   "outputs": [
    {
     "name": "stdout",
     "output_type": "stream",
     "text": [
      "['Instagram', 'SOCIAL', '4.5', '66577313', 'Varies with device', '1,000,000,000+', 'Free', '0', 'Teen', 'Social', 'July 31, 2018', 'Varies with device', 'Varies with device']\n",
      "['Instagram', 'SOCIAL', '4.5', '66577446', 'Varies with device', '1,000,000,000+', 'Free', '0', 'Teen', 'Social', 'July 31, 2018', 'Varies with device', 'Varies with device']\n",
      "['Instagram', 'SOCIAL', '4.5', '66577313', 'Varies with device', '1,000,000,000+', 'Free', '0', 'Teen', 'Social', 'July 31, 2018', 'Varies with device', 'Varies with device']\n",
      "['Instagram', 'SOCIAL', '4.5', '66509917', 'Varies with device', '1,000,000,000+', 'Free', '0', 'Teen', 'Social', 'July 31, 2018', 'Varies with device', 'Varies with device']\n"
     ]
    }
   ],
   "source": [
    "for app in android:\n",
    "    name = app[0]\n",
    "    if name == 'Instagram':\n",
    "        print(app)"
   ]
  },
  {
   "cell_type": "markdown",
   "metadata": {},
   "source": [
    "Create function to check the duplicate app in each file."
   ]
  },
  {
   "cell_type": "code",
   "execution_count": 28,
   "metadata": {},
   "outputs": [],
   "source": [
    "def check_duplicate(dataset,store):\n",
    "    duplicate_app = []\n",
    "    unique_app =[]\n",
    "    app_index= []\n",
    "    if store == 'google' or  store == 'apple':\n",
    "        for app in dataset:\n",
    "            app_name = app[0]\n",
    "            if app_name in unique_app:\n",
    "                duplicate_app.append(app)\n",
    "                duplicate_app_index = dataset.index(app)\n",
    "                app_index.append(duplicate_app_index)\n",
    "            else:\n",
    "                unique_app.append(app_name)\n",
    "    # For app store ,ID column is used for duplicated check instead of application name\n",
    "#     elif store == 'apple':\n",
    "#         for app in dataset:\n",
    "#             app_name = app[1]\n",
    "#             if app_name in unique_app:\n",
    "#                 duplicate_app.append(app)\n",
    "#                 duplicate_app_index = dataset.index(app)\n",
    "#                 app_index.append(duplicate_app_index)\n",
    "#             else:\n",
    "#                 unique_app.append(app_name)\n",
    "    else:\n",
    "        return print(\"Wrong App Store name. Only 'google' and  'apple' are valid\")\n",
    "    return print('Number of duplicate app in '+store ,len(duplicate_app)) ,print('Number of unique app in '+store ,len(unique_app)), print(app_index)    "
   ]
  },
  {
   "cell_type": "code",
   "execution_count": 29,
   "metadata": {},
   "outputs": [
    {
     "name": "stdout",
     "output_type": "stream",
     "text": [
      "Number of duplicate app in google 1181\n",
      "Number of unique app in google 9659\n",
      "[222, 204, 193, 213, 253, 204, 237, 238, 193, 240, 241, 242, 243, 244, 245, 246, 247, 248, 249, 250, 251, 252, 253, 254, 228, 285, 230, 231, 232, 233, 234, 235, 192, 293, 294, 243, 336, 382, 383, 385, 386, 390, 392, 393, 359, 369, 408, 410, 411, 412, 372, 415, 417, 419, 420, 388, 385, 436, 451, 452, 464, 383, 389, 467, 391, 390, 399, 402, 403, 407, 483, 490, 485, 486, 488, 487, 520, 495, 489, 491, 518, 503, 516, 525, 494, 500, 502, 564, 565, 566, 568, 571, 574, 575, 576, 579, 580, 534, 528, 590, 596, 662, 663, 664, 603, 610, 496, 506, 670, 605, 608, 673, 674, 602, 589, 611, 679, 607, 528, 604, 613, 606, 609, 529, 600, 501, 697, 702, 700, 734, 741, 702, 700, 784, 740, 742, 741, 756, 789, 749, 793, 750, 796, 784, 801, 737, 807, 740, 824, 784, 800, 803, 801, 832, 717, 835, 809, 766, 824, 843, 844, 740, 835, 801, 883, 903, 855, 888, 931, 932, 933, 914, 912, 913, 917, 938, 919, 921, 916, 924, 920, 918, 950, 922, 958, 858, 912, 910, 917, 914, 938, 905, 919, 883, 916, 971, 921, 974, 924, 920, 918, 926, 949, 950, 929, 922, 956, 957, 971, 917, 899, 1083, 1091, 1114, 1090, 1093, 1143, 1148, 1117, 1103, 1156, 1163, 1168, 1169, 1193, 1233, 1199, 1249, 1255, 1308, 1318, 1319, 1323, 1296, 1326, 1327, 1362, 1318, 1319, 1325, 1379, 1380, 1305, 1308, 1312, 1313, 1386, 1387, 1292, 1389, 1391, 1386, 1390, 1392, 1393, 1394, 1398, 1411, 1396, 1395, 1399, 1379, 1402, 1400, 1401, 1403, 1362, 1390, 1328, 1334, 1337, 1306, 1438, 1342, 1343, 1344, 1326, 1496, 1473, 1466, 1460, 1449, 1454, 1446, 1509, 1510, 1479, 1512, 1603, 1606, 1621, 1604, 1622, 1623, 1624, 1625, 1604, 1633, 1700, 1701, 1702, 1703, 1670, 1705, 1706, 1710, 1711, 1715, 1716, 1683, 1719, 1721, 1723, 1724, 1684, 1726, 1727, 1728, 1729, 1730, 1733, 1734, 1735, 1740, 1744, 1748, 1749, 1750, 1705, 1752, 1754, 1755, 1723, 1757, 1729, 1671, 1761, 1762, 1765, 1746, 1792, 1794, 1765, 1840, 1841, 1842, 1844, 1846, 1847, 1849, 1855, 1829, 1869, 1870, 1871, 1872, 1873, 1874, 1875, 1876, 1877, 1878, 1879, 1880, 1881, 1882, 1883, 1884, 1885, 1886, 1887, 1888, 1889, 1890, 1891, 1892, 1894, 1895, 1896, 1897, 1898, 1899, 1901, 1902, 1904, 1905, 1906, 1907, 1908, 1909, 1910, 1911, 1913, 1914, 1915, 1872, 1918, 1920, 1891, 1907, 1923, 1924, 1910, 1928, 1929, 1840, 1948, 1915, 1869, 1881, 1883, 1969, 1970, 1972, 1973, 1976, 1977, 1978, 1979, 1887, 1982, 1984, 1985, 1986, 1900, 1988, 1990, 1991, 1992, 1996, 1999, 1899, 2001, 2003, 1897, 2008, 2009, 2010, 2011, 2014, 2015, 2016, 2024, 2025, 2026, 2029, 2033, 2041, 2045, 2050, 2054, 2056, 2020, 2088, 2038, 2050, 2091, 2093, 2095, 2111, 2113, 2115, 2124, 2127, 2124, 2115, 2118, 2151, 2064, 2180, 2181, 2182, 2183, 2064, 2185, 2186, 2187, 2188, 2189, 2190, 2191, 2192, 2206, 2207, 2208, 2034, 2214, 2216, 2140, 2063, 2123, 2225, 2226, 2072, 2134, 2183, 2080, 2240, 2344, 2253, 2243, 2331, 2251, 2246, 2248, 2256, 2252, 2266, 2261, 2254, 2247, 2245, 2272, 2259, 2301, 2298, 2277, 2269, 2250, 2258, 2280, 2297, 2308, 2330, 2489, 2493, 2339, 2347, 2430, 2336, 2356, 2334, 2361, 2426, 2513, 2433, 2317, 2427, 2329, 2431, 2359, 2322, 2553, 2599, 2603, 2604, 2608, 2610, 2545, 2552, 2617, 2618, 2621, 2592, 2624, 2625, 2588, 2628, 2617, 2585, 2586, 2637, 2641, 2642, 2617, 2644, 2631, 2646, 2588, 2632, 2624, 2626, 2641, 2712, 2705, 2704, 2706, 2710, 2715, 2716, 2734, 2704, 2662, 2706, 2708, 2711, 2710, 2727, 2712, 2685, 2661, 2714, 2756, 2728, 2763, 2715, 2720, 2697, 2689, 2662, 2742, 2741, 2708, 2754, 2728, 2760, 2766, 2768, 2716, 2662, 2754, 2790, 2765, 2794, 2796, 2742, 2800, 2853, 2802, 2858, 2859, 2862, 2849, 2884, 2854, 2855, 2856, 2802, 2850, 2860, 2865, 2909, 2911, 2883, 2916, 2919, 2921, 2922, 2924, 2860, 2933, 2935, 2936, 2937, 2941, 2944, 2945, 2949, 2883, 2955, 2937, 2976, 3009, 2959, 2963, 2991, 2986, 2964, 2976, 2959, 2962, 2976, 3016, 3008, 3042, 3045, 3017, 3048, 3050, 3055, 3056, 3048, 3050, 3062, 3055, 3056, 3058, 3016, 3069, 3042, 3048, 3074, 3049, 3050, 3062, 3082, 3055, 3033, 3089, 3056, 3058, 3016, 3095, 3068, 3046, 3040, 3024, 3103, 3129, 3136, 3148, 3156, 3115, 3154, 3160, 3102, 3123, 3183, 3147, 3108, 3158, 3148, 3154, 3103, 3102, 3108, 3191, 3148, 3210, 3112, 3113, 3115, 3215, 3148, 3212, 3223, 3232, 3242, 3326, 3354, 3354, 3352, 3436, 3437, 3467, 3482, 3514, 3522, 3523, 3524, 3458, 3527, 3528, 3530, 3532, 3533, 3467, 3546, 3547, 3548, 3504, 3550, 3503, 3562, 3523, 3567, 3569, 3711, 3712, 3736, 3755, 3719, 3715, 3772, 3724, 3739, 3719, 3782, 3715, 3786, 3787, 3772, 3788, 3774, 3724, 3777, 3795, 3816, 3766, 3819, 3870, 3871, 3879, 3880, 3883, 3888, 3889, 3894, 3895, 3896, 3902, 3904, 3907, 3908, 3909, 3910, 3911, 3913, 3915, 3920, 3922, 3926, 3928, 3930, 3934, 3936, 3940, 3943, 3946, 3952, 3953, 3956, 2296, 3970, 378, 3973, 3976, 3986, 3987, 3988, 3989, 3994, 3996, 3999, 4017, 4031, 4036, 371, 4040, 4041, 4048, 4051, 4055, 4056, 4068, 4069, 4072, 4074, 4075, 4076, 4083, 4084, 4086, 4087, 4088, 4089, 4090, 164, 340, 4098, 4099, 4101, 4102, 335, 4105, 4106, 4115, 4122, 346, 4141, 4144, 4145, 4147, 4148, 4150, 4153, 4160, 4170, 4182, 4185, 4200, 4211, 347, 4224, 4227, 4232, 391, 4235, 4238, 4239, 4241, 4244, 4249, 4252, 4257, 4261, 4287, 4300, 4301, 4302, 4320, 4321, 4322, 4325, 4327, 4347, 4355, 4365, 4368, 4374, 4421, 4422, 603, 4448, 4501, 4527, 4566, 4586, 4588, 4589, 4592, 4593, 4602, 4610, 4633, 4634, 4676, 4681, 4686, 4712, 4715, 4717, 4718, 4720, 4724, 4727, 4742, 4744, 4747, 4748, 4793, 4796, 4800, 4804, 4805, 4809, 4821, 4824, 4854, 4864, 4869, 4928, 4949, 4979, 4987, 4989, 4991, 5042, 5044, 5062, 5075, 2436, 5189, 5223, 5294, 5353, 5381, 5384, 5392, 5395, 5415, 5433, 5448, 5474, 5505, 5512, 5516, 5531, 1512, 5544, 5545, 5594, 5595, 5600, 5601, 5606, 5609, 5610, 5611, 5620, 5623, 5664, 5704, 5728, 5774, 5856, 5863, 5905, 5910, 5952, 2487, 5964, 2410, 6054, 6077, 6086, 6194, 6203, 6212, 6251, 6286, 6288, 6293, 6294, 6296, 6302, 6304, 6305, 6411, 6449, 6450, 6497, 6509, 6546, 6562, 6577, 6579, 2244, 2310, 6587, 2510, 2527, 2525, 2275, 2356, 6626, 6643, 6652, 6654, 6673, 6679, 6845, 6882, 3403, 6914, 6919, 6989, 7003, 7027, 2182, 2522, 7055, 7077, 7106, 7240, 7329, 7353, 7446, 7455, 7501, 7537, 7539, 7544, 7570, 7572, 7582, 7606, 7613, 1618, 2463, 7937, 7939, 7987, 7988, 8029, 8082, 8126, 8138, 8174, 8187, 8193, 8194, 8195, 8202, 8246, 8250, 8261, 8268, 8291, 8297, 8305, 8307, 8309, 8320, 8347, 8412, 8424, 8433, 8439, 8440, 8442, 8446, 8450, 8458, 8535, 3528, 3548, 3543, 3529, 3467, 3490, 8640, 3554, 3546, 3499, 3535, 8667, 8670, 8714, 8725, 8727, 8744, 8746, 8747, 8751, 8754, 8785, 8894, 8901, 9143, 9314, 9343, 9359, 9361, 9440, 9494, 9529, 9568, 9569, 9570, 9574, 9589, 9594, 9603, 9621, 9628, 9635, 9641, 9642, 9671, 9680, 9689, 9779, 9821, 9826, 9839, 9840, 9841, 9842, 9844, 9853, 9854, 9856, 9859, 9936, 9975, 9982, 10018, 10026, 2519, 10118, 10170, 10171, 10178, 10186, 10188, 10190, 10200, 10203, 10213, 10269, 10327, 10472, 10501, 10645, 10646, 10714, 10719, 10729, 10752, 2515]\n"
     ]
    }
   ],
   "source": [
    "android_duplicate = check_duplicate(android, 'google')"
   ]
  },
  {
   "cell_type": "code",
   "execution_count": 30,
   "metadata": {},
   "outputs": [
    {
     "name": "stdout",
     "output_type": "stream",
     "text": [
      "Number of duplicate app in apple 0\n",
      "Number of unique app in apple 7197\n",
      "[]\n"
     ]
    }
   ],
   "source": [
    "ios_duplicate = check_duplicate(ios, 'apple')"
   ]
  },
  {
   "cell_type": "markdown",
   "metadata": {},
   "source": [
    "**Define functions to create new clean file with no duplicated data.**\n",
    "- For the duplicated data , The row that will be keep in the clean file is the one with the highest review number. \n",
    "\n",
    "There are 2 functions.\n",
    "1. Creating dictionary to collect unique app name with its highest review number.\n",
    "2. Creating new clean application list file base on the dictionary."
   ]
  },
  {
   "cell_type": "code",
   "execution_count": 31,
   "metadata": {},
   "outputs": [],
   "source": [
    "#Create review_max data dictionary\n",
    "def review_max_dict(dataset,store): \n",
    "    review_max ={}\n",
    "    for app in dataset:\n",
    "        #for data in google play store\n",
    "        if store == 'google':\n",
    "            name = app[0]\n",
    "            n_reviews = float(app[3])\n",
    "            if name in review_max and review_max[name] < n_reviews :\n",
    "                review_max[name] = n_reviews\n",
    "            elif name not in review_max:\n",
    "                review_max[name] = n_reviews\n",
    "        #for data in apple store\n",
    "        elif store == 'apple':\n",
    "            app_id = app[0]\n",
    "            n_reviews = float(app[5])\n",
    "            if app_id in review_max and review_max[app_id] < n_reviews :\n",
    "                review_max[app_id] = n_reviews\n",
    "            elif app_id not in review_max:\n",
    "                review_max[app_id] = n_reviews\n",
    "        elif store != 'apple'or store != 'google':\n",
    "            print(\"Wrong App Store name. Only 'google' and  'apple' are valid\")\n",
    "    return review_max"
   ]
  },
  {
   "cell_type": "code",
   "execution_count": 32,
   "metadata": {},
   "outputs": [],
   "source": [
    "#Create new list with non duplicate value \n",
    "def clean_app(dataset,review_max, store):\n",
    "    clean_list = []\n",
    "    already_added = []\n",
    "    for app in dataset:\n",
    "        if store == 'google':\n",
    "            name = app[0]\n",
    "            n_reviews = float(app[3])\n",
    "            if (n_reviews == review_max[name]) and (name not in already_added):\n",
    "                clean_list.append(app)\n",
    "                already_added.append(name)\n",
    "        elif store == 'apple':\n",
    "            app_id = app[0]\n",
    "            n_reviews = float(app[5])\n",
    "            if (n_reviews == review_max[app_id]) and (app_id not in already_added):\n",
    "                clean_list.append(app)\n",
    "                already_added.append(app_id)\n",
    "        else:\n",
    "            print('Wrong App Store name. Only \"google\" and  \"apple\" are valid')\n",
    "    return clean_list "
   ]
  },
  {
   "cell_type": "markdown",
   "metadata": {},
   "source": [
    "Apply the function to Android file"
   ]
  },
  {
   "cell_type": "code",
   "execution_count": 33,
   "metadata": {},
   "outputs": [],
   "source": [
    "android_dict = review_max_dict(android,'google')"
   ]
  },
  {
   "cell_type": "code",
   "execution_count": 34,
   "metadata": {},
   "outputs": [
    {
     "data": {
      "text/plain": [
       "dict"
      ]
     },
     "execution_count": 34,
     "metadata": {},
     "output_type": "execute_result"
    }
   ],
   "source": [
    "type(android_dict)"
   ]
  },
  {
   "cell_type": "code",
   "execution_count": 35,
   "metadata": {},
   "outputs": [
    {
     "name": "stdout",
     "output_type": "stream",
     "text": [
      "9659\n"
     ]
    }
   ],
   "source": [
    "print(len((android_dict)))"
   ]
  },
  {
   "cell_type": "code",
   "execution_count": 36,
   "metadata": {},
   "outputs": [],
   "source": [
    "new_android = clean_app(android,android_dict,'google')"
   ]
  },
  {
   "cell_type": "code",
   "execution_count": 37,
   "metadata": {},
   "outputs": [
    {
     "data": {
      "text/plain": [
       "9659"
      ]
     },
     "execution_count": 37,
     "metadata": {},
     "output_type": "execute_result"
    }
   ],
   "source": [
    "len(new_android)"
   ]
  },
  {
   "cell_type": "code",
   "execution_count": 38,
   "metadata": {},
   "outputs": [
    {
     "name": "stdout",
     "output_type": "stream",
     "text": [
      "['Photo Editor & Candy Camera & Grid & ScrapBook', 'ART_AND_DESIGN', '4.1', '159', '19M', '10,000+', 'Free', '0', 'Everyone', 'Art & Design', 'January 7, 2018', '1.0.0', '4.0.3 and up']\n",
      "\n",
      "\n",
      "['U Launcher Lite – FREE Live Cool Themes, Hide Apps', 'ART_AND_DESIGN', '4.7', '87510', '8.7M', '5,000,000+', 'Free', '0', 'Everyone', 'Art & Design', 'August 1, 2018', '1.2.4', '4.0.3 and up']\n",
      "\n",
      "\n",
      "['Sketch - Draw & Paint', 'ART_AND_DESIGN', '4.5', '215644', '25M', '50,000,000+', 'Free', '0', 'Teen', 'Art & Design', 'June 8, 2018', 'Varies with device', '4.2 and up']\n",
      "\n",
      "\n",
      "Number of rows: 9659\n",
      "Number of columns: 13\n"
     ]
    }
   ],
   "source": [
    "explore_data(new_android,0,3,True)"
   ]
  },
  {
   "cell_type": "markdown",
   "metadata": {},
   "source": [
    " This function doesn't need to be run for IOS file according to there is no duplicated data in the file."
   ]
  },
  {
   "cell_type": "markdown",
   "metadata": {},
   "source": [
    "### 3. Filter out app name that is not English language.\n",
    "\n",
    "Because our company build applications in English so we will pay attention to customers who is english language user.\n",
    "\n",
    "- Define function to check whether the app name is English language\n",
    "- Create new list that contain only English application name."
   ]
  },
  {
   "cell_type": "code",
   "execution_count": 39,
   "metadata": {},
   "outputs": [],
   "source": [
    "def is_english(name):\n",
    "    count = 0\n",
    "    for string in name:\n",
    "        if ord(string) > 127:\n",
    "            count += 1\n",
    "    if count > 3:\n",
    "        return False\n",
    "    return True"
   ]
  },
  {
   "cell_type": "code",
   "execution_count": 40,
   "metadata": {},
   "outputs": [
    {
     "data": {
      "text/plain": [
       "True"
      ]
     },
     "execution_count": 40,
     "metadata": {},
     "output_type": "execute_result"
    }
   ],
   "source": [
    "is_english('Docs To Go™ Free Office Suite')"
   ]
  },
  {
   "cell_type": "code",
   "execution_count": 41,
   "metadata": {},
   "outputs": [
    {
     "data": {
      "text/plain": [
       "True"
      ]
     },
     "execution_count": 41,
     "metadata": {},
     "output_type": "execute_result"
    }
   ],
   "source": [
    "is_english('Instachat 😜')"
   ]
  },
  {
   "cell_type": "code",
   "execution_count": 42,
   "metadata": {},
   "outputs": [
    {
     "data": {
      "text/plain": [
       "False"
      ]
     },
     "execution_count": 42,
     "metadata": {},
     "output_type": "execute_result"
    }
   ],
   "source": [
    "is_english('爱奇艺PPS -《欢乐颂2》电视剧热播')"
   ]
  },
  {
   "cell_type": "code",
   "execution_count": 43,
   "metadata": {},
   "outputs": [],
   "source": [
    "def english_app(dataset,store):\n",
    "    english_app_name = []\n",
    "    for app in dataset:\n",
    "        if store == 'google':\n",
    "            app_name = app[0]\n",
    "        elif store == 'apple':\n",
    "            app_name = app[1]\n",
    "        else:\n",
    "            return print('Wrong App Store name. Only \"google\" and  \"apple\" are valid')\n",
    "        if is_english(app_name):\n",
    "            english_app_name.append(app)  \n",
    "    return english_app_name"
   ]
  },
  {
   "cell_type": "markdown",
   "metadata": {},
   "source": [
    "Apply with New_Android file"
   ]
  },
  {
   "cell_type": "code",
   "execution_count": 44,
   "metadata": {},
   "outputs": [],
   "source": [
    "android_english= english_app(new_android, 'google')"
   ]
  },
  {
   "cell_type": "code",
   "execution_count": 45,
   "metadata": {},
   "outputs": [
    {
     "name": "stdout",
     "output_type": "stream",
     "text": [
      "['Photo Editor & Candy Camera & Grid & ScrapBook', 'ART_AND_DESIGN', '4.1', '159', '19M', '10,000+', 'Free', '0', 'Everyone', 'Art & Design', 'January 7, 2018', '1.0.0', '4.0.3 and up']\n",
      "\n",
      "\n",
      "['U Launcher Lite – FREE Live Cool Themes, Hide Apps', 'ART_AND_DESIGN', '4.7', '87510', '8.7M', '5,000,000+', 'Free', '0', 'Everyone', 'Art & Design', 'August 1, 2018', '1.2.4', '4.0.3 and up']\n",
      "\n",
      "\n",
      "['Sketch - Draw & Paint', 'ART_AND_DESIGN', '4.5', '215644', '25M', '50,000,000+', 'Free', '0', 'Teen', 'Art & Design', 'June 8, 2018', 'Varies with device', '4.2 and up']\n",
      "\n",
      "\n",
      "Number of rows: 9614\n",
      "Number of columns: 13\n"
     ]
    }
   ],
   "source": [
    "explore_data(android_english,0,3,True)"
   ]
  },
  {
   "cell_type": "markdown",
   "metadata": {},
   "source": [
    "Apply with ios file"
   ]
  },
  {
   "cell_type": "code",
   "execution_count": 46,
   "metadata": {},
   "outputs": [],
   "source": [
    "IOS_english= english_app(ios, 'apple')"
   ]
  },
  {
   "cell_type": "code",
   "execution_count": 47,
   "metadata": {},
   "outputs": [
    {
     "name": "stdout",
     "output_type": "stream",
     "text": [
      "['284882215', 'Facebook', '389879808', 'USD', '0', '2974676', '212', '3.5', '3.5', '95', '4+', 'Social Networking', '37', '1', '29', '1', '']\n",
      "\n",
      "\n",
      "['389801252', 'Instagram', '113954816', 'USD', '0', '2161558', '1289', '4.5', '4', '10.23', '12+', 'Photo & Video', '37', '0', '29', '1', '']\n",
      "\n",
      "\n",
      "['529479190', 'Clash of Clans', '116476928', 'USD', '0', '2130805', '579', '4.5', '4.5', '9.24.12', '9+', 'Games', '38', '5', '18', '1', '']\n",
      "\n",
      "\n",
      "Number of rows: 6183\n",
      "Number of columns: 17\n"
     ]
    }
   ],
   "source": [
    "explore_data(IOS_english,0,3,True)"
   ]
  },
  {
   "cell_type": "markdown",
   "metadata": {},
   "source": [
    "### 4. Filter only free application\n",
    "\n",
    "Create function that check each application's price to identify free app."
   ]
  },
  {
   "cell_type": "code",
   "execution_count": 48,
   "metadata": {},
   "outputs": [
    {
     "name": "stdout",
     "output_type": "stream",
     "text": [
      "Total Android apps are 8864\n",
      "Total ios apps are 3222\n"
     ]
    }
   ],
   "source": [
    "android_free = []\n",
    "ios_free = []\n",
    "\n",
    "for app in android_english:\n",
    "    app_price = app[7]\n",
    "    if app[7] == '0':\n",
    "        android_free.append(app)\n",
    "\n",
    "for app in IOS_english:\n",
    "    app_price = app[4]\n",
    "    if app[4] == '0':\n",
    "        ios_free.append(app)\n",
    "\n",
    "        \n",
    "print(\"Total Android apps are\", len(android_free))\n",
    "print(\"Total ios apps are\", len(ios_free))"
   ]
  },
  {
   "cell_type": "code",
   "execution_count": 49,
   "metadata": {},
   "outputs": [
    {
     "name": "stdout",
     "output_type": "stream",
     "text": [
      "['Photo Editor & Candy Camera & Grid & ScrapBook', 'ART_AND_DESIGN', '4.1', '159', '19M', '10,000+', 'Free', '0', 'Everyone', 'Art & Design', 'January 7, 2018', '1.0.0', '4.0.3 and up']\n",
      "\n",
      "\n",
      "['U Launcher Lite – FREE Live Cool Themes, Hide Apps', 'ART_AND_DESIGN', '4.7', '87510', '8.7M', '5,000,000+', 'Free', '0', 'Everyone', 'Art & Design', 'August 1, 2018', '1.2.4', '4.0.3 and up']\n",
      "\n",
      "\n",
      "['Sketch - Draw & Paint', 'ART_AND_DESIGN', '4.5', '215644', '25M', '50,000,000+', 'Free', '0', 'Teen', 'Art & Design', 'June 8, 2018', 'Varies with device', '4.2 and up']\n",
      "\n",
      "\n",
      "Number of rows: 8864\n",
      "Number of columns: 13\n"
     ]
    }
   ],
   "source": [
    "explore_data(android_free,0,3,True)"
   ]
  },
  {
   "cell_type": "code",
   "execution_count": 50,
   "metadata": {},
   "outputs": [
    {
     "name": "stdout",
     "output_type": "stream",
     "text": [
      "['284882215', 'Facebook', '389879808', 'USD', '0', '2974676', '212', '3.5', '3.5', '95', '4+', 'Social Networking', '37', '1', '29', '1', '']\n",
      "\n",
      "\n",
      "['389801252', 'Instagram', '113954816', 'USD', '0', '2161558', '1289', '4.5', '4', '10.23', '12+', 'Photo & Video', '37', '0', '29', '1', '']\n",
      "\n",
      "\n",
      "['529479190', 'Clash of Clans', '116476928', 'USD', '0', '2130805', '579', '4.5', '4.5', '9.24.12', '9+', 'Games', '38', '5', '18', '1', '']\n",
      "\n",
      "\n",
      "Number of rows: 3222\n",
      "Number of columns: 17\n"
     ]
    }
   ],
   "source": [
    "explore_data(ios_free,0,3,True)"
   ]
  },
  {
   "cell_type": "markdown",
   "metadata": {},
   "source": [
    "Now we have 8,864 total number of row for Android file and 3,222 rows for IOS file."
   ]
  },
  {
   "cell_type": "markdown",
   "metadata": {},
   "source": [
    "## Data Analysis\n",
    "\n",
    "Our company's aim is to determine the kinds of apps that are likely to attract more users because Our company's revenue is highly influenced by the number of people using our apps.\n",
    "\n",
    "To minimize risks and overhead, our validation strategy for an app idea is comprised of three steps:\n",
    "\n",
    "1. Build a minimal Android version of the app, and add it to Google Play.\n",
    "2. If the app has a good response from users, we develop it further.\n",
    "3. If the app is profitable after six months, we build an iOS version of the app and add it to the App Store.\n",
    "\n",
    "### 1. Find out what is the most popular application genre in both market.\n",
    " \n",
    "First we want to know what genre of free application that are the most popular in both markets."
   ]
  },
  {
   "cell_type": "code",
   "execution_count": 51,
   "metadata": {},
   "outputs": [],
   "source": [
    "def freq_genre (dataset,index):\n",
    "    frequency_genre = {}\n",
    "    for app in dataset:\n",
    "        app_genre = app[index]\n",
    "        if app_genre not in frequency_genre:\n",
    "            frequency_genre[app_genre] = 1\n",
    "        else: \n",
    "            frequency_genre[app_genre] += 1\n",
    "    return frequency_genre"
   ]
  },
  {
   "cell_type": "code",
   "execution_count": 52,
   "metadata": {},
   "outputs": [
    {
     "data": {
      "text/plain": [
       "{'ART_AND_DESIGN': 57,\n",
       " 'AUTO_AND_VEHICLES': 82,\n",
       " 'BEAUTY': 53,\n",
       " 'BOOKS_AND_REFERENCE': 190,\n",
       " 'BUSINESS': 407,\n",
       " 'COMICS': 55,\n",
       " 'COMMUNICATION': 287,\n",
       " 'DATING': 165,\n",
       " 'EDUCATION': 103,\n",
       " 'ENTERTAINMENT': 85,\n",
       " 'EVENTS': 63,\n",
       " 'FINANCE': 328,\n",
       " 'FOOD_AND_DRINK': 110,\n",
       " 'HEALTH_AND_FITNESS': 273,\n",
       " 'HOUSE_AND_HOME': 73,\n",
       " 'LIBRARIES_AND_DEMO': 83,\n",
       " 'LIFESTYLE': 346,\n",
       " 'GAME': 862,\n",
       " 'FAMILY': 1676,\n",
       " 'MEDICAL': 313,\n",
       " 'SOCIAL': 236,\n",
       " 'SHOPPING': 199,\n",
       " 'PHOTOGRAPHY': 261,\n",
       " 'SPORTS': 301,\n",
       " 'TRAVEL_AND_LOCAL': 207,\n",
       " 'TOOLS': 750,\n",
       " 'PERSONALIZATION': 294,\n",
       " 'PRODUCTIVITY': 345,\n",
       " 'PARENTING': 58,\n",
       " 'WEATHER': 71,\n",
       " 'VIDEO_PLAYERS': 159,\n",
       " 'NEWS_AND_MAGAZINES': 248,\n",
       " 'MAPS_AND_NAVIGATION': 124}"
      ]
     },
     "execution_count": 52,
     "metadata": {},
     "output_type": "execute_result"
    }
   ],
   "source": [
    "frequency_android_category = freq_genre(android_free, 1)#Use Category column\n",
    "frequency_android_category"
   ]
  },
  {
   "cell_type": "code",
   "execution_count": 53,
   "metadata": {},
   "outputs": [
    {
     "data": {
      "text/plain": [
       "{'Art & Design': 53,\n",
       " 'Art & Design;Creativity': 6,\n",
       " 'Auto & Vehicles': 82,\n",
       " 'Beauty': 53,\n",
       " 'Books & Reference': 190,\n",
       " 'Business': 407,\n",
       " 'Comics': 54,\n",
       " 'Comics;Creativity': 1,\n",
       " 'Communication': 287,\n",
       " 'Dating': 165,\n",
       " 'Education': 474,\n",
       " 'Education;Creativity': 4,\n",
       " 'Education;Education': 30,\n",
       " 'Education;Pretend Play': 5,\n",
       " 'Education;Brain Games': 3,\n",
       " 'Entertainment': 538,\n",
       " 'Entertainment;Brain Games': 7,\n",
       " 'Entertainment;Creativity': 3,\n",
       " 'Entertainment;Music & Video': 15,\n",
       " 'Events': 63,\n",
       " 'Finance': 328,\n",
       " 'Food & Drink': 110,\n",
       " 'Health & Fitness': 273,\n",
       " 'House & Home': 73,\n",
       " 'Libraries & Demo': 83,\n",
       " 'Lifestyle': 345,\n",
       " 'Lifestyle;Pretend Play': 1,\n",
       " 'Card': 40,\n",
       " 'Arcade': 164,\n",
       " 'Puzzle': 100,\n",
       " 'Racing': 88,\n",
       " 'Sports': 307,\n",
       " 'Casual': 156,\n",
       " 'Simulation': 181,\n",
       " 'Adventure': 60,\n",
       " 'Trivia': 37,\n",
       " 'Action': 275,\n",
       " 'Word': 23,\n",
       " 'Role Playing': 83,\n",
       " 'Strategy': 81,\n",
       " 'Board': 34,\n",
       " 'Music': 18,\n",
       " 'Action;Action & Adventure': 9,\n",
       " 'Casual;Brain Games': 12,\n",
       " 'Educational;Creativity': 3,\n",
       " 'Puzzle;Brain Games': 15,\n",
       " 'Educational;Education': 35,\n",
       " 'Casual;Pretend Play': 21,\n",
       " 'Educational;Brain Games': 6,\n",
       " 'Art & Design;Pretend Play': 1,\n",
       " 'Educational;Pretend Play': 8,\n",
       " 'Entertainment;Education': 1,\n",
       " 'Casual;Education': 2,\n",
       " 'Casual;Creativity': 6,\n",
       " 'Casual;Action & Adventure': 12,\n",
       " 'Music;Music & Video': 2,\n",
       " 'Arcade;Pretend Play': 1,\n",
       " 'Adventure;Action & Adventure': 3,\n",
       " 'Role Playing;Action & Adventure': 3,\n",
       " 'Simulation;Pretend Play': 2,\n",
       " 'Puzzle;Creativity': 2,\n",
       " 'Simulation;Action & Adventure': 7,\n",
       " 'Racing;Action & Adventure': 15,\n",
       " 'Sports;Action & Adventure': 2,\n",
       " 'Educational;Action & Adventure': 3,\n",
       " 'Arcade;Action & Adventure': 11,\n",
       " 'Entertainment;Action & Adventure': 3,\n",
       " 'Art & Design;Action & Adventure': 1,\n",
       " 'Puzzle;Action & Adventure': 3,\n",
       " 'Education;Action & Adventure': 3,\n",
       " 'Strategy;Action & Adventure': 1,\n",
       " 'Music & Audio;Music & Video': 1,\n",
       " 'Health & Fitness;Education': 1,\n",
       " 'Board;Action & Adventure': 2,\n",
       " 'Board;Brain Games': 7,\n",
       " 'Casual;Music & Video': 1,\n",
       " 'Education;Music & Video': 3,\n",
       " 'Role Playing;Pretend Play': 4,\n",
       " 'Entertainment;Pretend Play': 2,\n",
       " 'Medical': 313,\n",
       " 'Social': 236,\n",
       " 'Shopping': 199,\n",
       " 'Photography': 261,\n",
       " 'Travel & Local': 206,\n",
       " 'Travel & Local;Action & Adventure': 1,\n",
       " 'Tools': 749,\n",
       " 'Tools;Education': 1,\n",
       " 'Personalization': 294,\n",
       " 'Productivity': 345,\n",
       " 'Parenting': 44,\n",
       " 'Parenting;Music & Video': 6,\n",
       " 'Parenting;Education': 7,\n",
       " 'Parenting;Brain Games': 1,\n",
       " 'Weather': 71,\n",
       " 'Video Players & Editors': 157,\n",
       " 'Video Players & Editors;Music & Video': 2,\n",
       " 'Video Players & Editors;Creativity': 1,\n",
       " 'News & Magazines': 248,\n",
       " 'Maps & Navigation': 124,\n",
       " 'Health & Fitness;Action & Adventure': 1,\n",
       " 'Educational': 33,\n",
       " 'Casino': 38,\n",
       " 'Trivia;Education': 1,\n",
       " 'Lifestyle;Education': 1,\n",
       " 'Card;Action & Adventure': 1,\n",
       " 'Books & Reference;Education': 1,\n",
       " 'Simulation;Education': 1,\n",
       " 'Puzzle;Education': 1,\n",
       " 'Adventure;Education': 1,\n",
       " 'Role Playing;Brain Games': 1,\n",
       " 'Strategy;Education': 1,\n",
       " 'Racing;Pretend Play': 1,\n",
       " 'Communication;Creativity': 1,\n",
       " 'Strategy;Creativity': 1}"
      ]
     },
     "execution_count": 53,
     "metadata": {},
     "output_type": "execute_result"
    }
   ],
   "source": [
    "frequency_android_genre = freq_genre(android_free, -4)#Use genre column\n",
    "frequency_android_genre"
   ]
  },
  {
   "cell_type": "code",
   "execution_count": 54,
   "metadata": {},
   "outputs": [
    {
     "data": {
      "text/plain": [
       "{'Social Networking': 106,\n",
       " 'Photo & Video': 160,\n",
       " 'Games': 1874,\n",
       " 'Music': 66,\n",
       " 'Reference': 18,\n",
       " 'Health & Fitness': 65,\n",
       " 'Weather': 28,\n",
       " 'Utilities': 81,\n",
       " 'Travel': 40,\n",
       " 'Shopping': 84,\n",
       " 'News': 43,\n",
       " 'Navigation': 6,\n",
       " 'Lifestyle': 51,\n",
       " 'Entertainment': 254,\n",
       " 'Food & Drink': 26,\n",
       " 'Sports': 69,\n",
       " 'Book': 14,\n",
       " 'Finance': 36,\n",
       " 'Education': 118,\n",
       " 'Productivity': 56,\n",
       " 'Business': 17,\n",
       " 'Catalogs': 4,\n",
       " 'Medical': 6}"
      ]
     },
     "execution_count": 54,
     "metadata": {},
     "output_type": "execute_result"
    }
   ],
   "source": [
    "frequency_ios_genre = freq_genre(ios_free, -6)\n",
    "frequency_ios_genre"
   ]
  },
  {
   "cell_type": "markdown",
   "metadata": {},
   "source": [
    "Transform the number into percentage"
   ]
  },
  {
   "cell_type": "code",
   "execution_count": 55,
   "metadata": {},
   "outputs": [
    {
     "name": "stdout",
     "output_type": "stream",
     "text": [
      "Total number of genre for Android is :  8864\n",
      "Total number of genre for IOS is :  3222\n"
     ]
    }
   ],
   "source": [
    "total_android_app = len(android_free)\n",
    "total_ios_app = len(ios_free)\n",
    "print (\"Total number of genre for Android is : \", total_android_app)\n",
    "print (\"Total number of genre for IOS is : \", total_ios_app)\n"
   ]
  },
  {
   "cell_type": "code",
   "execution_count": 56,
   "metadata": {},
   "outputs": [],
   "source": [
    "def percentage_genre (dataset,total):\n",
    "    percentage_dict= {}\n",
    "    for key in dataset:\n",
    "        percentage = (dataset[key]/total)*100\n",
    "        percentage_dict[key] = percentage\n",
    "    return percentage_dict\n",
    "\n",
    "# for key in frequency_genre_ios:\n",
    "#     percentage = (frequency_genre_ios[key]/total_ios_app)*100\n",
    "#     percentage_dict_IOS[key] = percentage"
   ]
  },
  {
   "cell_type": "code",
   "execution_count": 57,
   "metadata": {},
   "outputs": [],
   "source": [
    "percentage_dict_Android_cat = percentage_genre(frequency_android_category,total_android_app )\n",
    "percentage_dict_Android_genre = percentage_genre(frequency_android_genre,total_android_app )\n",
    "percentage_dict_IOS = percentage_genre(frequency_ios_genre,total_ios_app )"
   ]
  },
  {
   "cell_type": "markdown",
   "metadata": {},
   "source": [
    "Sort dictionary of Android **Category** by percentage value "
   ]
  },
  {
   "cell_type": "code",
   "execution_count": 58,
   "metadata": {},
   "outputs": [
    {
     "data": {
      "text/plain": [
       "[('FAMILY', 18.907942238267147),\n",
       " ('GAME', 9.724729241877256),\n",
       " ('TOOLS', 8.461191335740072),\n",
       " ('BUSINESS', 4.591606498194946),\n",
       " ('LIFESTYLE', 3.9034296028880866),\n",
       " ('PRODUCTIVITY', 3.892148014440433),\n",
       " ('FINANCE', 3.7003610108303246),\n",
       " ('MEDICAL', 3.531137184115524),\n",
       " ('SPORTS', 3.395758122743682),\n",
       " ('PERSONALIZATION', 3.3167870036101084),\n",
       " ('COMMUNICATION', 3.2378158844765346),\n",
       " ('HEALTH_AND_FITNESS', 3.0798736462093865),\n",
       " ('PHOTOGRAPHY', 2.944494584837545),\n",
       " ('NEWS_AND_MAGAZINES', 2.7978339350180503),\n",
       " ('SOCIAL', 2.6624548736462095),\n",
       " ('TRAVEL_AND_LOCAL', 2.33528880866426),\n",
       " ('SHOPPING', 2.2450361010830324),\n",
       " ('BOOKS_AND_REFERENCE', 2.1435018050541514),\n",
       " ('DATING', 1.861462093862816),\n",
       " ('VIDEO_PLAYERS', 1.7937725631768955),\n",
       " ('MAPS_AND_NAVIGATION', 1.3989169675090252),\n",
       " ('FOOD_AND_DRINK', 1.2409747292418771),\n",
       " ('EDUCATION', 1.1620036101083033),\n",
       " ('ENTERTAINMENT', 0.9589350180505415),\n",
       " ('LIBRARIES_AND_DEMO', 0.9363718411552346),\n",
       " ('AUTO_AND_VEHICLES', 0.9250902527075812),\n",
       " ('HOUSE_AND_HOME', 0.8235559566787004),\n",
       " ('WEATHER', 0.8009927797833934),\n",
       " ('EVENTS', 0.7107400722021661),\n",
       " ('PARENTING', 0.6543321299638989),\n",
       " ('ART_AND_DESIGN', 0.6430505415162455),\n",
       " ('COMICS', 0.6204873646209386),\n",
       " ('BEAUTY', 0.5979241877256317)]"
      ]
     },
     "execution_count": 58,
     "metadata": {},
     "output_type": "execute_result"
    }
   ],
   "source": [
    "import operator\n",
    "sort_percentage_android_category = sorted(percentage_dict_Android_cat.items(), key = operator.itemgetter(1), reverse = True)\n",
    "sort_percentage_android_category"
   ]
  },
  {
   "cell_type": "markdown",
   "metadata": {},
   "source": [
    "For Android ,the percentage doesn't goes toward one category too much. It is more scatter than IOS.\n",
    "\n",
    "From the result of percentage of each Android **category** above, the most popular category are Family which is the application for children which can break down into different kinds of genre e.g. education, entertainment, music , diffetent type of games and etc."
   ]
  },
  {
   "cell_type": "markdown",
   "metadata": {},
   "source": [
    "Sort dictionary of Android **genre** by percentage value"
   ]
  },
  {
   "cell_type": "code",
   "execution_count": 59,
   "metadata": {},
   "outputs": [
    {
     "data": {
      "text/plain": [
       "[('Tools', 8.449909747292418),\n",
       " ('Entertainment', 6.069494584837545),\n",
       " ('Education', 5.347472924187725),\n",
       " ('Business', 4.591606498194946),\n",
       " ('Lifestyle', 3.892148014440433),\n",
       " ('Productivity', 3.892148014440433),\n",
       " ('Finance', 3.7003610108303246),\n",
       " ('Medical', 3.531137184115524),\n",
       " ('Sports', 3.463447653429603),\n",
       " ('Personalization', 3.3167870036101084),\n",
       " ('Communication', 3.2378158844765346),\n",
       " ('Action', 3.1024368231046933),\n",
       " ('Health & Fitness', 3.0798736462093865),\n",
       " ('Photography', 2.944494584837545),\n",
       " ('News & Magazines', 2.7978339350180503),\n",
       " ('Social', 2.6624548736462095),\n",
       " ('Travel & Local', 2.3240072202166067),\n",
       " ('Shopping', 2.2450361010830324),\n",
       " ('Books & Reference', 2.1435018050541514),\n",
       " ('Simulation', 2.0419675090252705),\n",
       " ('Dating', 1.861462093862816),\n",
       " ('Arcade', 1.8501805054151623),\n",
       " ('Video Players & Editors', 1.7712093862815883),\n",
       " ('Casual', 1.7599277978339352),\n",
       " ('Maps & Navigation', 1.3989169675090252),\n",
       " ('Food & Drink', 1.2409747292418771),\n",
       " ('Puzzle', 1.128158844765343),\n",
       " ('Racing', 0.9927797833935018),\n",
       " ('Libraries & Demo', 0.9363718411552346),\n",
       " ('Role Playing', 0.9363718411552346),\n",
       " ('Auto & Vehicles', 0.9250902527075812),\n",
       " ('Strategy', 0.9138086642599278),\n",
       " ('House & Home', 0.8235559566787004),\n",
       " ('Weather', 0.8009927797833934),\n",
       " ('Events', 0.7107400722021661),\n",
       " ('Adventure', 0.6768953068592057),\n",
       " ('Comics', 0.6092057761732852),\n",
       " ('Art & Design', 0.5979241877256317),\n",
       " ('Beauty', 0.5979241877256317),\n",
       " ('Parenting', 0.4963898916967509),\n",
       " ('Card', 0.45126353790613716),\n",
       " ('Casino', 0.42870036101083037),\n",
       " ('Trivia', 0.41741877256317694),\n",
       " ('Educational;Education', 0.39485559566787),\n",
       " ('Board', 0.3835740072202166),\n",
       " ('Educational', 0.3722924187725632),\n",
       " ('Education;Education', 0.33844765342960287),\n",
       " ('Word', 0.2594765342960289),\n",
       " ('Casual;Pretend Play', 0.236913357400722),\n",
       " ('Music', 0.2030685920577617),\n",
       " ('Entertainment;Music & Video', 0.16922382671480143),\n",
       " ('Puzzle;Brain Games', 0.16922382671480143),\n",
       " ('Racing;Action & Adventure', 0.16922382671480143),\n",
       " ('Casual;Brain Games', 0.13537906137184114),\n",
       " ('Casual;Action & Adventure', 0.13537906137184114),\n",
       " ('Arcade;Action & Adventure', 0.12409747292418773),\n",
       " ('Action;Action & Adventure', 0.10153429602888085),\n",
       " ('Educational;Pretend Play', 0.09025270758122744),\n",
       " ('Entertainment;Brain Games', 0.078971119133574),\n",
       " ('Simulation;Action & Adventure', 0.078971119133574),\n",
       " ('Board;Brain Games', 0.078971119133574),\n",
       " ('Parenting;Education', 0.078971119133574),\n",
       " ('Art & Design;Creativity', 0.06768953068592057),\n",
       " ('Educational;Brain Games', 0.06768953068592057),\n",
       " ('Casual;Creativity', 0.06768953068592057),\n",
       " ('Parenting;Music & Video', 0.06768953068592057),\n",
       " ('Education;Pretend Play', 0.056407942238267145),\n",
       " ('Education;Creativity', 0.04512635379061372),\n",
       " ('Role Playing;Pretend Play', 0.04512635379061372),\n",
       " ('Education;Brain Games', 0.033844765342960284),\n",
       " ('Entertainment;Creativity', 0.033844765342960284),\n",
       " ('Educational;Creativity', 0.033844765342960284),\n",
       " ('Adventure;Action & Adventure', 0.033844765342960284),\n",
       " ('Role Playing;Action & Adventure', 0.033844765342960284),\n",
       " ('Educational;Action & Adventure', 0.033844765342960284),\n",
       " ('Entertainment;Action & Adventure', 0.033844765342960284),\n",
       " ('Puzzle;Action & Adventure', 0.033844765342960284),\n",
       " ('Education;Action & Adventure', 0.033844765342960284),\n",
       " ('Education;Music & Video', 0.033844765342960284),\n",
       " ('Casual;Education', 0.02256317689530686),\n",
       " ('Music;Music & Video', 0.02256317689530686),\n",
       " ('Simulation;Pretend Play', 0.02256317689530686),\n",
       " ('Puzzle;Creativity', 0.02256317689530686),\n",
       " ('Sports;Action & Adventure', 0.02256317689530686),\n",
       " ('Board;Action & Adventure', 0.02256317689530686),\n",
       " ('Entertainment;Pretend Play', 0.02256317689530686),\n",
       " ('Video Players & Editors;Music & Video', 0.02256317689530686),\n",
       " ('Comics;Creativity', 0.01128158844765343),\n",
       " ('Lifestyle;Pretend Play', 0.01128158844765343),\n",
       " ('Art & Design;Pretend Play', 0.01128158844765343),\n",
       " ('Entertainment;Education', 0.01128158844765343),\n",
       " ('Arcade;Pretend Play', 0.01128158844765343),\n",
       " ('Art & Design;Action & Adventure', 0.01128158844765343),\n",
       " ('Strategy;Action & Adventure', 0.01128158844765343),\n",
       " ('Music & Audio;Music & Video', 0.01128158844765343),\n",
       " ('Health & Fitness;Education', 0.01128158844765343),\n",
       " ('Casual;Music & Video', 0.01128158844765343),\n",
       " ('Travel & Local;Action & Adventure', 0.01128158844765343),\n",
       " ('Tools;Education', 0.01128158844765343),\n",
       " ('Parenting;Brain Games', 0.01128158844765343),\n",
       " ('Video Players & Editors;Creativity', 0.01128158844765343),\n",
       " ('Health & Fitness;Action & Adventure', 0.01128158844765343),\n",
       " ('Trivia;Education', 0.01128158844765343),\n",
       " ('Lifestyle;Education', 0.01128158844765343),\n",
       " ('Card;Action & Adventure', 0.01128158844765343),\n",
       " ('Books & Reference;Education', 0.01128158844765343),\n",
       " ('Simulation;Education', 0.01128158844765343),\n",
       " ('Puzzle;Education', 0.01128158844765343),\n",
       " ('Adventure;Education', 0.01128158844765343),\n",
       " ('Role Playing;Brain Games', 0.01128158844765343),\n",
       " ('Strategy;Education', 0.01128158844765343),\n",
       " ('Racing;Pretend Play', 0.01128158844765343),\n",
       " ('Communication;Creativity', 0.01128158844765343),\n",
       " ('Strategy;Creativity', 0.01128158844765343)]"
      ]
     },
     "execution_count": 59,
     "metadata": {},
     "output_type": "execute_result"
    }
   ],
   "source": [
    "sort_percentage_android_genre = sorted(percentage_dict_Android_genre.items(), key = operator.itemgetter(1), reverse = True)\n",
    "sort_percentage_android_genre"
   ]
  },
  {
   "cell_type": "markdown",
   "metadata": {},
   "source": [
    "From the result of percentage of each Android **genre** above, it is obviously different from category. Tools genre is the most popular followed by entertainment and education.\n",
    "\n",
    "Compare Tools between category and genre\n",
    "Category  : ('TOOLS', 8.461191335740072)\n",
    "genre : ('Tools', 8.449909747292418)\n",
    "\n",
    "The percentage are almost equal.\n",
    "\n",
    "\n",
    "Compare Entertainment and Education between category and genre, \n",
    "\n",
    "for category ,('EDUCATION', 1.1620036101083033),  ('ENTERTAINMENT', 0.9589350180505415)\n",
    "\n",
    "for genre ,\n",
    "\n",
    "Education\n",
    "('Education', 5.347472924187725),  ('Educational;Education', 0.39485559566787), ('Educational', 0.3722924187725632), ('Education;Education', 0.33844765342960287),('Educational;Pretend Play', 0.09025270758122744),('Educational;Brain Games', 0.06768953068592057), ('Education;Pretend Play', 0.056407942238267145),\n",
    "('Education;Creativity', 0.04512635379061372),('Education;Brain Games', 0.033844765342960284),('Educational;Creativity', 0.033844765342960284),\n",
    "('Educational;Action & Adventure', 0.033844765342960284),('Education;Action & Adventure', 0.033844765342960284),('Education;Music & Video', 0.033844765342960284),\n",
    "\n",
    "Total percentage : 6.87\n",
    "\n",
    "Entertainment\n",
    "('Entertainment', 6.069494584837545),('Entertainment;Music & Video', 0.16922382671480143), ('Entertainment;Brain Games', 0.078971119133574),('Entertainment;Creativity', 0.033844765342960284),('Entertainment;Action & Adventure', 0.033844765342960284),('Entertainment;Pretend Play', 0.02256317689530686),('Entertainment;Education', 0.01128158844765343)\n",
    "\n",
    "Total percentage : 6.41\n",
    "\n",
    "Education and Entertainment genre are a lot higher than category because most of them are genre of Family category. The percentage of Family category is 18.907942238267147 which is the highest number. \n",
    "If we try to subtract Education genre that is under Education category which is 6.87 -  1.16 = 5.71 . This number can represent the percentage of Education genre under Family category.\n",
    "Do the same with Entertainment. 6.41 - 0.96 = 5.45. This number can represent the percentage of Education genre under Family category.\n",
    "\n",
    "The percentage of Education and Entertainment genre under Family category are \n",
    " - Education genre is 5.71\n",
    " - Entertainment genre is 5.45\n",
    "\n",
    "The summary of Education and Entertainment genre in Family category is 11.16 which is higher than Tools.\n",
    "\n",
    "The conclusion is the most popular genre are under Family category as well. \n",
    "As you can see that Education is a bit higher than Entertainment. There are still many genres under Family category for example ('Simulation', 2.0419675090252705) which is mostly under Family cateory and some are under Games. Another example is (Puzzle', 1.128158844765343) which is mostly under Family cateory and some are under Games as well which both of them considered to be in Entertainment genre.\n",
    "\n",
    "For Android, the most popular genre is Entertainment genre in Family category."
   ]
  },
  {
   "cell_type": "markdown",
   "metadata": {},
   "source": [
    "Sort dictionary of **IOS** genre by percentage value"
   ]
  },
  {
   "cell_type": "code",
   "execution_count": 60,
   "metadata": {},
   "outputs": [
    {
     "data": {
      "text/plain": [
       "[('Games', 58.16263190564867),\n",
       " ('Entertainment', 7.883302296710118),\n",
       " ('Photo & Video', 4.9658597144630665),\n",
       " ('Education', 3.662321539416512),\n",
       " ('Social Networking', 3.2898820608317814),\n",
       " ('Shopping', 2.60707635009311),\n",
       " ('Utilities', 2.5139664804469275),\n",
       " ('Sports', 2.1415270018621975),\n",
       " ('Music', 2.0484171322160147),\n",
       " ('Health & Fitness', 2.0173805090006205),\n",
       " ('Productivity', 1.7380509000620732),\n",
       " ('Lifestyle', 1.5828677839851024),\n",
       " ('News', 1.3345747982619491),\n",
       " ('Travel', 1.2414649286157666),\n",
       " ('Finance', 1.1173184357541899),\n",
       " ('Weather', 0.8690254500310366),\n",
       " ('Food & Drink', 0.8069522036002483),\n",
       " ('Reference', 0.5586592178770949),\n",
       " ('Business', 0.5276225946617008),\n",
       " ('Book', 0.4345127250155183),\n",
       " ('Navigation', 0.186219739292365),\n",
       " ('Medical', 0.186219739292365),\n",
       " ('Catalogs', 0.12414649286157665)]"
      ]
     },
     "execution_count": 60,
     "metadata": {},
     "output_type": "execute_result"
    }
   ],
   "source": [
    "sort_percentage_IOS = sorted(percentage_dict_IOS.items(), key = operator.itemgetter(1), reverse = True)\n",
    "sort_percentage_IOS"
   ]
  },
  {
   "cell_type": "markdown",
   "metadata": {},
   "source": [
    "From the results above, for IOS ,the most popular free english app genre is Games. The top three are in Entertainment purpose. If we choose only entertainment genre app and sum up the perentage it will be equal to 78.46% (from Games,Entertainment,Photo & Video,Social Networking,Sports,Music genre). Only 6 genres in the store takes very large number of percentage. It indicates that entertainment apps attract more users than others.\n",
    "\n",
    "However, the number of application in the market doesn't reflect the demand of users."
   ]
  },
  {
   "cell_type": "markdown",
   "metadata": {},
   "source": [
    "### 2. Find out what is the most popular genre of application that has been installed or used."
   ]
  },
  {
   "cell_type": "markdown",
   "metadata": {},
   "source": [
    "One way to find out what genres are the most popular (have the most users) is to calculate the average number of installs for each app genre. For the Google Play data set, we can find this information in the Installs column, but this information is missing for the App Store data set. As a workaround, we'll take the total number of user ratings as a proxy, which we can find in the rating_count_tot app.\n",
    "\n",
    "Let's start with calculating the average number of user ratings per app genre on the App Store. To do that, we'll need to:\n",
    "\n",
    "- Isolate the apps of each genre. \n",
    "- Sum up the user ratings for the apps of that genre.\n",
    "- Divide the sum by the number of apps belonging to that genre (not by the total number of apps)."
   ]
  },
  {
   "cell_type": "markdown",
   "metadata": {},
   "source": [
    "For **IOS**\n",
    "\n",
    "To isolate the apps of each genre , we can use the function which is defined above."
   ]
  },
  {
   "cell_type": "code",
   "execution_count": 62,
   "metadata": {},
   "outputs": [
    {
     "data": {
      "text/plain": [
       "{'Social Networking': 106,\n",
       " 'Photo & Video': 160,\n",
       " 'Games': 1874,\n",
       " 'Music': 66,\n",
       " 'Reference': 18,\n",
       " 'Health & Fitness': 65,\n",
       " 'Weather': 28,\n",
       " 'Utilities': 81,\n",
       " 'Travel': 40,\n",
       " 'Shopping': 84,\n",
       " 'News': 43,\n",
       " 'Navigation': 6,\n",
       " 'Lifestyle': 51,\n",
       " 'Entertainment': 254,\n",
       " 'Food & Drink': 26,\n",
       " 'Sports': 69,\n",
       " 'Book': 14,\n",
       " 'Finance': 36,\n",
       " 'Education': 118,\n",
       " 'Productivity': 56,\n",
       " 'Business': 17,\n",
       " 'Catalogs': 4,\n",
       " 'Medical': 6}"
      ]
     },
     "execution_count": 62,
     "metadata": {},
     "output_type": "execute_result"
    }
   ],
   "source": [
    "frequency_ios_genre"
   ]
  },
  {
   "cell_type": "markdown",
   "metadata": {},
   "source": [
    "Sum up the user ratings for the apps of that genre\n",
    "\n",
    "Divide the sum by the number of apps belonging to that genre (not by the total number of apps)."
   ]
  },
  {
   "cell_type": "code",
   "execution_count": 63,
   "metadata": {},
   "outputs": [
    {
     "name": "stdout",
     "output_type": "stream",
     "text": [
      "Average user number in Social Networking genre is : 71548.34905660378\n",
      "Average user number in Photo & Video genre is : 28441.54375\n",
      "Average user number in Games genre is : 22788.6696905016\n",
      "Average user number in Music genre is : 57326.530303030304\n",
      "Average user number in Reference genre is : 74942.11111111111\n",
      "Average user number in Health & Fitness genre is : 23298.015384615384\n",
      "Average user number in Weather genre is : 52279.892857142855\n",
      "Average user number in Utilities genre is : 18684.456790123455\n",
      "Average user number in Travel genre is : 28243.8\n",
      "Average user number in Shopping genre is : 26919.690476190477\n",
      "Average user number in News genre is : 21248.023255813954\n",
      "Average user number in Navigation genre is : 86090.33333333333\n",
      "Average user number in Lifestyle genre is : 16485.764705882353\n",
      "Average user number in Entertainment genre is : 14029.830708661417\n",
      "Average user number in Food & Drink genre is : 33333.92307692308\n",
      "Average user number in Sports genre is : 23008.898550724636\n",
      "Average user number in Book genre is : 39758.5\n",
      "Average user number in Finance genre is : 31467.944444444445\n",
      "Average user number in Education genre is : 7003.983050847458\n",
      "Average user number in Productivity genre is : 21028.410714285714\n",
      "Average user number in Business genre is : 7491.117647058823\n",
      "Average user number in Catalogs genre is : 4004.0\n",
      "Average user number in Medical genre is : 612.0\n"
     ]
    }
   ],
   "source": [
    "avg_user_genre ={}\n",
    "for genre in frequency_ios_genre:\n",
    "    rating_count = 0\n",
    "    for app in ios_free:\n",
    "        genre_app = app[-6]\n",
    "        if genre_app == genre:\n",
    "            rating_count += float(app[5])\n",
    "    len_genre = frequency_ios_genre[genre]\n",
    "    avg_number = rating_count/len_genre\n",
    "    print( 'Average user number in', genre, 'genre is :' ,avg_number )\n",
    "    avg_user_genre[genre] = avg_number"
   ]
  },
  {
   "cell_type": "code",
   "execution_count": 64,
   "metadata": {},
   "outputs": [
    {
     "data": {
      "text/plain": [
       "{'Social Networking': 71548.34905660378,\n",
       " 'Photo & Video': 28441.54375,\n",
       " 'Games': 22788.6696905016,\n",
       " 'Music': 57326.530303030304,\n",
       " 'Reference': 74942.11111111111,\n",
       " 'Health & Fitness': 23298.015384615384,\n",
       " 'Weather': 52279.892857142855,\n",
       " 'Utilities': 18684.456790123455,\n",
       " 'Travel': 28243.8,\n",
       " 'Shopping': 26919.690476190477,\n",
       " 'News': 21248.023255813954,\n",
       " 'Navigation': 86090.33333333333,\n",
       " 'Lifestyle': 16485.764705882353,\n",
       " 'Entertainment': 14029.830708661417,\n",
       " 'Food & Drink': 33333.92307692308,\n",
       " 'Sports': 23008.898550724636,\n",
       " 'Book': 39758.5,\n",
       " 'Finance': 31467.944444444445,\n",
       " 'Education': 7003.983050847458,\n",
       " 'Productivity': 21028.410714285714,\n",
       " 'Business': 7491.117647058823,\n",
       " 'Catalogs': 4004.0,\n",
       " 'Medical': 612.0}"
      ]
     },
     "execution_count": 64,
     "metadata": {},
     "output_type": "execute_result"
    }
   ],
   "source": [
    "avg_user_genre"
   ]
  },
  {
   "cell_type": "code",
   "execution_count": 69,
   "metadata": {},
   "outputs": [
    {
     "data": {
      "text/plain": [
       "[('Navigation', 86090.33333333333),\n",
       " ('Reference', 74942.11111111111),\n",
       " ('Social Networking', 71548.34905660378),\n",
       " ('Music', 57326.530303030304),\n",
       " ('Weather', 52279.892857142855),\n",
       " ('Book', 39758.5),\n",
       " ('Food & Drink', 33333.92307692308),\n",
       " ('Finance', 31467.944444444445),\n",
       " ('Photo & Video', 28441.54375),\n",
       " ('Travel', 28243.8),\n",
       " ('Shopping', 26919.690476190477),\n",
       " ('Health & Fitness', 23298.015384615384),\n",
       " ('Sports', 23008.898550724636),\n",
       " ('Games', 22788.6696905016),\n",
       " ('News', 21248.023255813954),\n",
       " ('Productivity', 21028.410714285714),\n",
       " ('Utilities', 18684.456790123455),\n",
       " ('Lifestyle', 16485.764705882353),\n",
       " ('Entertainment', 14029.830708661417),\n",
       " ('Business', 7491.117647058823),\n",
       " ('Education', 7003.983050847458),\n",
       " ('Catalogs', 4004.0),\n",
       " ('Medical', 612.0)]"
      ]
     },
     "execution_count": 69,
     "metadata": {},
     "output_type": "execute_result"
    }
   ],
   "source": [
    "sorted(avg_user_genre.items(), key= operator.itemgetter(1),reverse = True)"
   ]
  },
  {
   "cell_type": "markdown",
   "metadata": {},
   "source": [
    "From the result, Number of rating of Navigation, Reference and Social Networking are top three highest. Games and Entertainment are not so high compare to others. These number can represent the number of real users that use the application. \n",
    "In order to come up with conclusion I would like to have more data e.g. average time that user spend in each applications. Unfortunately we don't have it.\n",
    "My analysis from data that we have so far is the application genre that are interesting to create are Reference, Social Networking or Music genre. \n",
    "\n",
    "The reason are because those genre has \n",
    "- high number of rating \n",
    "- most liking to have long user spending time in the app. \n",
    "- user have to read or listen to the content inside the app so there is higher chance to see advertisement.\n",
    "\n",
    "Even Navigation has the highest rating count but user may not need to pay attention to the content at all time especially when they use it while driving."
   ]
  },
  {
   "cell_type": "markdown",
   "metadata": {},
   "source": [
    "However we should take into consideration about the existing competitors that already own high portion of market share.\n",
    "\n",
    "Let's see the percentage of user review in each existing application in Social Networking genre."
   ]
  },
  {
   "cell_type": "code",
   "execution_count": 79,
   "metadata": {},
   "outputs": [
    {
     "name": "stdout",
     "output_type": "stream",
     "text": [
      "Facebook : 39.222402056928125 %\n",
      "Pinterest : 13.997976035468824 %\n",
      "Skype for iPhone : 4.925011125212203 %\n",
      "Messenger : 4.634232689993902 %\n",
      "Tumblr : 4.407799185799285 %\n",
      "WhatsApp Messenger : 3.791986550854581 %\n",
      "Kik : 3.4409374845483165 %\n",
      "ooVoo – Free Video Call, Text and Voice : 2.3404281970563514 %\n",
      "TextNow - Unlimited Text + Calls : 2.1751091918975494 %\n",
      "Viber Messenger – Text & Call : 2.1656947901043297 %\n",
      "Followers - Social Analytics For Instagram : 1.4870271784813673 %\n",
      "MeetMe - Chat and Meet New People : 1.2799367099039112 %\n",
      "We Heart It - Fashion, wallpapers, quotes, tattoos : 1.1921480724539746 %\n",
      "InsTrack for Instagram - Analytics Plus More : 1.1278163268669754 %\n",
      "Tango - Free Video Call, Voice and Chat : 0.994340151302886 %\n",
      "LinkedIn : 0.9474527384503816 %\n",
      "Match™ - #1 Dating App. : 0.7998154038864075 %\n",
      "Skype for iPad : 0.7932754272905576 %\n",
      "POF - Best Dating App for Conversations : 0.6941077579813096 %\n",
      "Timehop : 0.652810970283322 %\n",
      "Find My Family, Friends & iPhone - Life360 Locator : 0.5785374054356963 %\n",
      "Whisper - Share, Express, Meet : 0.5250309033672309 %\n",
      "Hangouts : 0.48000263708733704 %\n",
      "LINE PLAY - Your Avatar World : 0.45723138793202905 %\n",
      "WeChat : 0.4560051423203072 %\n",
      "Badoo - Meet New People, Chat, Socialize. : 0.45394821419741893 %\n",
      "Followers + for Instagram - Follower Analytics : 0.3775386086067938 %\n",
      "GroupMe : 0.3726204407232212 %\n",
      "Marco Polo Video Walkie Talkie : 0.3647355495854828 %\n",
      "Miitomo : 0.31598899016036786 %\n",
      "SimSimi : 0.310253325202314 %\n",
      "Grindr - Gay and same sex guys chat, meet and date : 0.30591531653288945 %\n",
      "Wishbone - Compare Anything : 0.27226608211230696 %\n",
      "imo video calls and chat : 0.2484268125854993 %\n",
      "After School - Funny Anonymous School News : 0.24369324081551927 %\n",
      "Quick Reposter - Repost, Regram and Reshare Photos : 0.23330311670759646 %\n",
      "Weibo HD : 0.22114614408385938 %\n",
      "Repost for Instagram : 0.2002208560644768 %\n",
      "Live.me – Live Video Chat & Make Friends Nearby : 0.19414236975260823 %\n",
      "Nextdoor : 0.18989665913997988 %\n",
      "Followers Analytics for Instagram - InstaReport : 0.18346216603761145 %\n",
      "YouNow: Live Stream Video Chat : 0.15926688972030392 %\n",
      "FollowMeter for Instagram - Followers Tracking : 0.15790878974173025 %\n",
      "LINE : 0.1508018393684176 %\n",
      "eHarmony™ Dating App - Meet Singles : 0.14667479768595587 %\n",
      "Discord - Chat for Gamers : 0.1206731165427785 %\n",
      "QQ : 0.12010614276531571 %\n",
      "Telegram Messenger : 0.09985331201687736 %\n",
      "Weibo : 0.09579219751784154 %\n",
      "Periscope - Live Video Streaming Around the World : 0.07993011718556854 %\n",
      "Chat for Whatsapp - iPad Version : 0.06671830962701696 %\n",
      "QQ HD : 0.0666919387536466 %\n",
      "Followers Analysis Tool For Instagram App Free : 0.05607766222207572 %\n",
      "live.ly - live video streaming : 0.054653635060076144 %\n",
      "Houseparty - Group Video Chat : 0.052623077810558236 %\n",
      "SOMA Messenger : 0.04261533136650569 %\n",
      "Monkey : 0.040347436256654524 %\n",
      "Down To Lunch : 0.033425081996934385 %\n",
      "Flinch - Video Chat Staring Contest : 0.028137721886176716 %\n",
      "Highrise - Your Avatar Community : 0.026515913173899428 %\n",
      "LOVOO - Dating Chat : 0.026173091820084718 %\n",
      "PlayStation®Messages : 0.025289667562177574 %\n",
      "BOO! - Video chat camera with filters & stickers : 0.0237997132167521 %\n",
      "Qzone : 0.021742785093863827 %\n",
      "Chatous - Chat with new people : 0.02121536762645658 %\n",
      "Kiwi - Q&A : 0.020279201621808712 %\n",
      "GhostCodes - a discovery app for Snapchat : 0.01731247836764294 %\n",
      "Jodel : 0.01573022596542119 %\n",
      "FireChat : 0.013673297842532923 %\n",
      "Google Duo - simple video calling : 0.013620556095792198 %\n",
      "Fiesta by Tango - Chat & Meet New People : 0.011669111466385378 %\n",
      "Google Allo — smart messaging : 0.011365846422626209 %\n",
      "Peach — share vividly : 0.009585812470126746 %\n",
      "Hey! VINA - Where Women Meet New Friends : 0.009480328976645296 %\n",
      "Battlefield™ Companion : 0.009084765876089858 %\n",
      "All Devices for WhatsApp - Messenger for iPad : 0.00899246781929359 %\n",
      "Chat for Pokemon Go - GoChat : 0.006592718342590609 %\n",
      "IAmNaughty – Dating App to Meet New People Online : 0.006104857185238903 %\n",
      "Qzone HD : 0.006038930001812997 %\n",
      "Zenly - Locate your friends in realtime : 0.005630181464572379 %\n",
      "League of Legends Friends : 0.005537883407776111 %\n",
      "豆瓣 : 0.005366472730868756 %\n",
      "Candid - Speak Your Mind Freely : 0.005247803800702125 %\n",
      "知乎 : 0.005234618364016943 %\n",
      "Selfeo : 0.004825869826776325 %\n",
      "Fake-A-Location Free ™ : 0.004667644586554151 %\n",
      "Popcorn Buzz - Free Group Calls : 0.0037051077085359222 %\n",
      "Fam — Group video calling for iMessage : 0.0036787368351655597 %\n",
      "QQ International : 0.0036128096517396534 %\n",
      "Ameba : 0.0035468824683137475 %\n",
      "SoundCloud Pulse: for creators : 0.003164504804443492 %\n",
      "Tantan : 0.0030985776210175862 %\n",
      "Cougar Dating & Life Style App for Mature Women : 0.0028084980139435993 %\n",
      "Rawr Messenger - Dab your chat : 0.0023733786033326193 %\n",
      "WhenToPost: Best Time to Post Photos for Instagram : 0.0020832989962586324 %\n",
      "Inke—Broadcast an amazing life : 0.001938259192721639 %\n",
      "Mustknow - anonymous video Q&A : 0.0006988281443146045 %\n",
      "CTFxCmoji : 0.0005142320307220675 %\n",
      "Lobi : 0.00047467572066652383 %\n",
      "Chain: Collaborate On MyVideo Story/Group Video : 0.0004614902839813426 %\n",
      "botman - Real time video chat : 9.229805679626852e-05 %\n",
      "BestieBox : 0.0 %\n",
      "MATCH ON LINE chat : 0.0 %\n",
      "niconico ch : 0.0 %\n",
      "LINE BLOG : 0.0 %\n",
      "bit-tube - Live Stream Video Chat : 0.0 %\n"
     ]
    }
   ],
   "source": [
    "total_rating_SN = 0\n",
    "for app in ios_free:\n",
    "    if app[-6] == 'Social Networking':\n",
    "        total_rating_SN += float(app[5])\n",
    "        \n",
    "for app in ios_free:\n",
    "    if app[-6] == 'Social Networking':\n",
    "        percent_rating_count = (float(app[5])*100)/total_rating_SN\n",
    "        #print (app[1], ':',app[5], ' percent :' ,percent_rating_count ,'%' )\n",
    "        print (app[1], ':' ,percent_rating_count ,'%' )"
   ]
  },
  {
   "cell_type": "markdown",
   "metadata": {},
   "source": [
    "For Social networking , Facebook and Pinterest take about 52% of the total app in genre. Majority of the reamaining apps has less than 1 percent of number of user rating.\n",
    "\n",
    "Let's see the percentage of user review in each existing application in Music genre."
   ]
  },
  {
   "cell_type": "code",
   "execution_count": 80,
   "metadata": {},
   "outputs": [
    {
     "name": "stdout",
     "output_type": "stream",
     "text": [
      "Pandora - Music & Radio : 29.78363447459807 %\n",
      "Spotify Music : 23.22059356408834 %\n",
      "Shazam - Discover music, artists, videos & lyrics : 10.649387308377765 %\n",
      "iHeartRadio – Free Music & Radio Stations : 7.750073938477372 %\n",
      "SoundCloud - Music & Audio : 3.587740722934619 %\n",
      "Magic Piano by Smule : 3.4807248534511626 %\n",
      "Smule Sing! : 3.1535454391919124 %\n",
      "TuneIn Radio - MLB NBA Audiobooks Podcasts Music : 2.9184224026582437 %\n",
      "Amazon Music : 2.807812026321305 %\n",
      "SoundHound Song Search & Music Player : 2.1831871699363905 %\n",
      "Sonos Controller : 1.292568806393782 %\n",
      "Bandsintown Concerts : 0.8152394404092874 %\n",
      "Karaoke - Sing Karaoke, Unlimited Songs! : 0.7560622283140891 %\n",
      "My Mixtapez Music : 0.6947441702252725 %\n",
      "Sing Karaoke Songs Unlimited with StarMaker : 0.6931847885756001 %\n",
      "Ringtones for iPhone & Ringtone Maker : 0.6714063058750893 %\n",
      "Musi - Unlimited Music For YouTube : 0.6658559644101533 %\n",
      "AutoRap by Smule : 0.4810824540226893 %\n",
      "Spinrilla - Mixtapes For Free : 0.39785376224610164 %\n",
      "Napster - Top Music & Radio : 0.37710605724622187 %\n",
      "edjing Mix:DJ turntable to remix and scratch music : 0.3589220813991935 %\n",
      "Free Music - MP3 Streamer & Playlist Manager Pro : 0.3553011443482591 %\n",
      "Free Piano app by Yokee : 0.3440154500362226 %\n",
      "Google Play Music : 0.26742073782010606 %\n",
      "Certified Mixtapes - Hip Hop Albums & Mixtapes : 0.26364121958445913 %\n",
      "TIDAL : 0.19553060075045903 %\n",
      "YouTube Music : 0.18789227368680902 %\n",
      "Nicki Minaj: The Empire : 0.13733130596098744 %\n",
      "Sounds app - Music And Friends : 0.13548119213934212 %\n",
      "SongFlip - Free Music Streamer : 0.13225670805018883 %\n",
      "Simple Radio - Live AM & FM Radio Stations : 0.12652135520308833 %\n",
      "Deezer - Listen to your Favorite Music & Playlists : 0.12361403348335995 %\n",
      "Ringtones for iPhone with Ringtone Maker : 0.10606438237518141 %\n",
      "Bose SoundTouch : 0.0974481380058046 %\n",
      "Amazon Alexa : 0.07976633591036568 %\n",
      "DatPiff : 0.07440100582759424 %\n",
      "Trebel Music - Unlimited Music Downloader : 0.0679256074518356 %\n",
      "Free Music Play - Mp3 Streamer & Player : 0.06596977284038195 %\n",
      "Acapella from PicPlayPost : 0.06573190106331328 %\n",
      "Coach Guitar - Lessons & Easy Tabs For Beginners : 0.06385535704421587 %\n",
      "Musicloud - MP3 and FLAC Music Player for Cloud Platforms. : 0.05843716656654027 %\n",
      "Piano - Play Keyboard Music Games with Magic Tiles : 0.04323980303159651 %\n",
      "Boom: Best Equalizer & Magical Surround Sound : 0.03634152149660465 %\n",
      "Music Freedom - Unlimited Free MP3 Music Streaming : 0.032932026025286824 %\n",
      "AmpMe - A Portable Social Party Music Speaker : 0.027672416732323683 %\n",
      "Medly - Music Maker : 0.024659374222787005 %\n",
      "Bose Connect : 0.024183630668649637 %\n",
      "Music Memos : 0.024025049483937178 %\n",
      "UE BOOM : 0.016175280840670575 %\n",
      "LiveMixtapes : 0.014668759585902238 %\n",
      "NOISE : 0.009382720095487017 %\n",
      "MP3 Music Player & Streamer for Clouds : 0.008695534961733038 %\n",
      "Musical Video Maker - Create Music clips lip sync : 0.008457663184664354 %\n",
      "Cloud Music Player - Downloader & Playlist Manager : 0.008431232987212278 %\n",
      "Remixlive - Remix loops with pads : 0.007611896866197918 %\n",
      "QQ音乐HD : 0.005920364229265048 %\n",
      "Blocs Wave - Make & Record Music : 0.004175971197428025 %\n",
      "PlayGround • Music At Your Fingertips : 0.003964529617811415 %\n",
      "Music and Chill : 0.0035680766560302743 %\n",
      "The Singing Machine Mobile Karaoke App : 0.003435925668769894 %\n",
      "radio.de - Der Radioplayer : 0.0016915326369328707 %\n",
      "Free Music -  Player & Streamer  for Dropbox, OneDrive & Google Drive : 0.0012157890827955008 %\n",
      "NRJ Radio : 0.001004347503178892 %\n",
      "Smart Music: Streaming Videos and Radio : 0.0004493133566852938 %\n",
      "BOSS Tuner : 0.00034359256687698935 %\n",
      "PetitLyrics : 0.0 %\n"
     ]
    }
   ],
   "source": [
    "total_rating_MS = 0\n",
    "for app in ios_free:\n",
    "    if app[-6] == 'Music':\n",
    "        total_rating_MS += float(app[5])\n",
    "        \n",
    "for app in ios_free:\n",
    "    if app[-6] == 'Music':\n",
    "        percent_rating_count = (float(app[5])*100)/total_rating_MS\n",
    "        print (app[1], ':' ,percent_rating_count ,'%' )"
   ]
  },
  {
   "cell_type": "markdown",
   "metadata": {},
   "source": [
    "For Music, Pandora and Spotify take about 52% of the total app in the genre as well. \n",
    "\n",
    "Let's see the percentage of user review in each existing application in Reference genre."
   ]
  },
  {
   "cell_type": "code",
   "execution_count": 81,
   "metadata": {},
   "outputs": [
    {
     "name": "stdout",
     "output_type": "stream",
     "text": [
      "Bible : 73.08752385174334 %\n",
      "Dictionary.com Dictionary & Thesaurus : 14.829742660631391 %\n",
      "Dictionary.com Dictionary & Thesaurus for iPad : 4.016062768447942 %\n",
      "Google Translate : 1.985680799550468 %\n",
      "Muslim Pro: Ramadan 2017 Prayer Times, Azan, Quran : 1.3653501443336264 %\n",
      "New Furniture Mods - Pocket Wiki & Game Tools for Minecraft PC Edition : 1.3038211716005983 %\n",
      "Merriam-Webster Dictionary : 1.2490381464804687 %\n",
      "Night Sky : 0.8986195270720067 %\n",
      "City Maps for Minecraft PE - The Best Maps for Minecraft Pocket Edition (MCPE) : 0.6327105810558965 %\n",
      "LUCKY BLOCK MOD ™ for Minecraft PC Edition - The Best Pocket Wiki & Mods Installer Tools : 0.34789815546518127 %\n",
      "GUNS MODS for Minecraft PC Edition - Mods Tools : 0.11097454479679872 %\n",
      "Guides for Pokémon GO - Pokemon GO News and Cheats : 0.061232447563230284 %\n",
      "WWDC : 0.05648804484646668 %\n",
      "Horror Maps for Minecraft PE - Download The Scariest Maps for Minecraft Pocket Edition (MCPE) Free : 0.0532262679786917 %\n",
      "VPN Express : 0.0010378380942920387 %\n",
      "Real Bike Traffic Rider Virtual Reality Glasses : 0.0005930503395954507 %\n",
      "教えて!goo : 0.0 %\n",
      "Jishokun-Japanese English Dictionary & Translator : 0.0 %\n"
     ]
    }
   ],
   "source": [
    "total_rating_RF = 0\n",
    "for app in ios_free:\n",
    "    if app[-6] == 'Reference':\n",
    "        total_rating_RF += float(app[5])\n",
    "        \n",
    "for app in ios_free:\n",
    "    if app[-6] == 'Reference':\n",
    "        percent_rating_count = (float(app[5])*100)/total_rating_RF\n",
    "        print (app[1], ':' ,percent_rating_count ,'%' )"
   ]
  },
  {
   "cell_type": "markdown",
   "metadata": {},
   "source": [
    "For Reference, Bible and dictionary take around 87% of of the total app in the genre.\n",
    "\n",
    "As you can see that , in each genre there are a couple apps that hold a huge percentage than the other remaining apps. \n",
    "The key to attract more user is to focus on specific target group or make something different. The one that have higher chance might be Reference because there still be not too many of competitors."
   ]
  },
  {
   "cell_type": "markdown",
   "metadata": {},
   "source": [
    "**For Android** \n",
    "\n",
    "Repeat the same process with IOS but there are some different.\n",
    "We have data about the number of installs for the Google Play market, so we should be able to get a clearer picture about genre popularity. However, the install numbers don't seem precise enough — we can see that most values are open-ended (100+, 1,000+, 5,000+, etc.) We're going to leave the numbers as they are, which means that we'll consider that an app with 100,000+ installs has 100,000 installs, and an app with 1,000,000+ installs has 1,000,000 installs, and so on.\n",
    "\n",
    "In order to use that number we have to convert string to float. As you can see the string contain , and + sign so we have to replace it before convert.\n",
    "\n",
    "- Isolate the apps of each genre.\n",
    "\n",
    "There are Category and Genre for Android , we decided to use Category because it gives you overview idea better than genre which is may be too specific."
   ]
  },
  {
   "cell_type": "code",
   "execution_count": 83,
   "metadata": {},
   "outputs": [
    {
     "data": {
      "text/plain": [
       "{'ART_AND_DESIGN': 57,\n",
       " 'AUTO_AND_VEHICLES': 82,\n",
       " 'BEAUTY': 53,\n",
       " 'BOOKS_AND_REFERENCE': 190,\n",
       " 'BUSINESS': 407,\n",
       " 'COMICS': 55,\n",
       " 'COMMUNICATION': 287,\n",
       " 'DATING': 165,\n",
       " 'EDUCATION': 103,\n",
       " 'ENTERTAINMENT': 85,\n",
       " 'EVENTS': 63,\n",
       " 'FINANCE': 328,\n",
       " 'FOOD_AND_DRINK': 110,\n",
       " 'HEALTH_AND_FITNESS': 273,\n",
       " 'HOUSE_AND_HOME': 73,\n",
       " 'LIBRARIES_AND_DEMO': 83,\n",
       " 'LIFESTYLE': 346,\n",
       " 'GAME': 862,\n",
       " 'FAMILY': 1676,\n",
       " 'MEDICAL': 313,\n",
       " 'SOCIAL': 236,\n",
       " 'SHOPPING': 199,\n",
       " 'PHOTOGRAPHY': 261,\n",
       " 'SPORTS': 301,\n",
       " 'TRAVEL_AND_LOCAL': 207,\n",
       " 'TOOLS': 750,\n",
       " 'PERSONALIZATION': 294,\n",
       " 'PRODUCTIVITY': 345,\n",
       " 'PARENTING': 58,\n",
       " 'WEATHER': 71,\n",
       " 'VIDEO_PLAYERS': 159,\n",
       " 'NEWS_AND_MAGAZINES': 248,\n",
       " 'MAPS_AND_NAVIGATION': 124}"
      ]
     },
     "execution_count": 83,
     "metadata": {},
     "output_type": "execute_result"
    }
   ],
   "source": [
    "frequency_android_category"
   ]
  },
  {
   "cell_type": "markdown",
   "metadata": {},
   "source": [
    "- Sum up the number of installed for the apps of that genre.\n",
    "- Divide the sum by the number of apps belonging to that genre (not by the total number of apps)."
   ]
  },
  {
   "cell_type": "code",
   "execution_count": 86,
   "metadata": {},
   "outputs": [
    {
     "name": "stdout",
     "output_type": "stream",
     "text": [
      "Average user number in ART_AND_DESIGN genre is : 1986335.0877192982\n",
      "Average user number in AUTO_AND_VEHICLES genre is : 647317.8170731707\n",
      "Average user number in BEAUTY genre is : 513151.88679245283\n",
      "Average user number in BOOKS_AND_REFERENCE genre is : 8767811.894736841\n",
      "Average user number in BUSINESS genre is : 1712290.1474201474\n",
      "Average user number in COMICS genre is : 817657.2727272727\n",
      "Average user number in COMMUNICATION genre is : 38456119.167247385\n",
      "Average user number in DATING genre is : 854028.8303030303\n",
      "Average user number in EDUCATION genre is : 1833495.145631068\n",
      "Average user number in ENTERTAINMENT genre is : 11640705.88235294\n",
      "Average user number in EVENTS genre is : 253542.22222222222\n",
      "Average user number in FINANCE genre is : 1387692.475609756\n",
      "Average user number in FOOD_AND_DRINK genre is : 1924897.7363636363\n",
      "Average user number in HEALTH_AND_FITNESS genre is : 4188821.9853479853\n",
      "Average user number in HOUSE_AND_HOME genre is : 1331540.5616438356\n",
      "Average user number in LIBRARIES_AND_DEMO genre is : 638503.734939759\n",
      "Average user number in LIFESTYLE genre is : 1437816.2687861272\n",
      "Average user number in GAME genre is : 15588015.603248259\n",
      "Average user number in FAMILY genre is : 3695641.8198090694\n",
      "Average user number in MEDICAL genre is : 120550.61980830671\n",
      "Average user number in SOCIAL genre is : 23253652.127118643\n",
      "Average user number in SHOPPING genre is : 7036877.311557789\n",
      "Average user number in PHOTOGRAPHY genre is : 17840110.40229885\n",
      "Average user number in SPORTS genre is : 3638640.1428571427\n",
      "Average user number in TRAVEL_AND_LOCAL genre is : 13984077.710144928\n",
      "Average user number in TOOLS genre is : 10801391.298666667\n",
      "Average user number in PERSONALIZATION genre is : 5201482.6122448975\n",
      "Average user number in PRODUCTIVITY genre is : 16787331.344927534\n",
      "Average user number in PARENTING genre is : 542603.6206896552\n",
      "Average user number in WEATHER genre is : 5074486.197183099\n",
      "Average user number in VIDEO_PLAYERS genre is : 24727872.452830188\n",
      "Average user number in NEWS_AND_MAGAZINES genre is : 9549178.467741935\n",
      "Average user number in MAPS_AND_NAVIGATION genre is : 4056941.7741935486\n"
     ]
    }
   ],
   "source": [
    "avg_install_genre ={}\n",
    "for genre in frequency_android_category:\n",
    "    install_count = 0\n",
    "    for app in android_free:\n",
    "        genre_app = app[1]\n",
    "        if genre_app == genre:\n",
    "            n_installs = app[5].replace('+','')\n",
    "            n_installs = n_installs.replace(',','')\n",
    "            install_count += float(n_installs)\n",
    "    len_genre = frequency_android_category[genre]\n",
    "    avg_number = install_count/len_genre\n",
    "    print( 'Average user number in', genre, 'genre is :' ,avg_number )\n",
    "    avg_install_genre[genre] = avg_number"
   ]
  },
  {
   "cell_type": "code",
   "execution_count": 87,
   "metadata": {},
   "outputs": [
    {
     "data": {
      "text/plain": [
       "{'ART_AND_DESIGN': 1986335.0877192982,\n",
       " 'AUTO_AND_VEHICLES': 647317.8170731707,\n",
       " 'BEAUTY': 513151.88679245283,\n",
       " 'BOOKS_AND_REFERENCE': 8767811.894736841,\n",
       " 'BUSINESS': 1712290.1474201474,\n",
       " 'COMICS': 817657.2727272727,\n",
       " 'COMMUNICATION': 38456119.167247385,\n",
       " 'DATING': 854028.8303030303,\n",
       " 'EDUCATION': 1833495.145631068,\n",
       " 'ENTERTAINMENT': 11640705.88235294,\n",
       " 'EVENTS': 253542.22222222222,\n",
       " 'FINANCE': 1387692.475609756,\n",
       " 'FOOD_AND_DRINK': 1924897.7363636363,\n",
       " 'HEALTH_AND_FITNESS': 4188821.9853479853,\n",
       " 'HOUSE_AND_HOME': 1331540.5616438356,\n",
       " 'LIBRARIES_AND_DEMO': 638503.734939759,\n",
       " 'LIFESTYLE': 1437816.2687861272,\n",
       " 'GAME': 15588015.603248259,\n",
       " 'FAMILY': 3695641.8198090694,\n",
       " 'MEDICAL': 120550.61980830671,\n",
       " 'SOCIAL': 23253652.127118643,\n",
       " 'SHOPPING': 7036877.311557789,\n",
       " 'PHOTOGRAPHY': 17840110.40229885,\n",
       " 'SPORTS': 3638640.1428571427,\n",
       " 'TRAVEL_AND_LOCAL': 13984077.710144928,\n",
       " 'TOOLS': 10801391.298666667,\n",
       " 'PERSONALIZATION': 5201482.6122448975,\n",
       " 'PRODUCTIVITY': 16787331.344927534,\n",
       " 'PARENTING': 542603.6206896552,\n",
       " 'WEATHER': 5074486.197183099,\n",
       " 'VIDEO_PLAYERS': 24727872.452830188,\n",
       " 'NEWS_AND_MAGAZINES': 9549178.467741935,\n",
       " 'MAPS_AND_NAVIGATION': 4056941.7741935486}"
      ]
     },
     "execution_count": 87,
     "metadata": {},
     "output_type": "execute_result"
    }
   ],
   "source": [
    "avg_install_genre"
   ]
  },
  {
   "cell_type": "markdown",
   "metadata": {},
   "source": [
    "Sort the number in descending order"
   ]
  },
  {
   "cell_type": "code",
   "execution_count": 88,
   "metadata": {},
   "outputs": [
    {
     "data": {
      "text/plain": [
       "[('COMMUNICATION', 38456119.167247385),\n",
       " ('VIDEO_PLAYERS', 24727872.452830188),\n",
       " ('SOCIAL', 23253652.127118643),\n",
       " ('PHOTOGRAPHY', 17840110.40229885),\n",
       " ('PRODUCTIVITY', 16787331.344927534),\n",
       " ('GAME', 15588015.603248259),\n",
       " ('TRAVEL_AND_LOCAL', 13984077.710144928),\n",
       " ('ENTERTAINMENT', 11640705.88235294),\n",
       " ('TOOLS', 10801391.298666667),\n",
       " ('NEWS_AND_MAGAZINES', 9549178.467741935),\n",
       " ('BOOKS_AND_REFERENCE', 8767811.894736841),\n",
       " ('SHOPPING', 7036877.311557789),\n",
       " ('PERSONALIZATION', 5201482.6122448975),\n",
       " ('WEATHER', 5074486.197183099),\n",
       " ('HEALTH_AND_FITNESS', 4188821.9853479853),\n",
       " ('MAPS_AND_NAVIGATION', 4056941.7741935486),\n",
       " ('FAMILY', 3695641.8198090694),\n",
       " ('SPORTS', 3638640.1428571427),\n",
       " ('ART_AND_DESIGN', 1986335.0877192982),\n",
       " ('FOOD_AND_DRINK', 1924897.7363636363),\n",
       " ('EDUCATION', 1833495.145631068),\n",
       " ('BUSINESS', 1712290.1474201474),\n",
       " ('LIFESTYLE', 1437816.2687861272),\n",
       " ('FINANCE', 1387692.475609756),\n",
       " ('HOUSE_AND_HOME', 1331540.5616438356),\n",
       " ('DATING', 854028.8303030303),\n",
       " ('COMICS', 817657.2727272727),\n",
       " ('AUTO_AND_VEHICLES', 647317.8170731707),\n",
       " ('LIBRARIES_AND_DEMO', 638503.734939759),\n",
       " ('PARENTING', 542603.6206896552),\n",
       " ('BEAUTY', 513151.88679245283),\n",
       " ('EVENTS', 253542.22222222222),\n",
       " ('MEDICAL', 120550.61980830671)]"
      ]
     },
     "execution_count": 88,
     "metadata": {},
     "output_type": "execute_result"
    }
   ],
   "source": [
    "sorted(avg_install_genre.items(), key=operator.itemgetter(1), reverse = True)"
   ]
  },
  {
   "cell_type": "markdown",
   "metadata": {},
   "source": [
    "The top three app categories that has been installed the most are 'COMMUNICATION', 'VIDEO_PLAYERS', 'SOCIAL'. 'GAME' and 'ENTERTAINMENT' are a little bit lower.\n",
    "Notice that application in social net work genre are in the top three of both market.\n",
    "\n",
    "Let's see the percentage of user review in each existing application in Social Networking genre."
   ]
  },
  {
   "cell_type": "code",
   "execution_count": 105,
   "metadata": {},
   "outputs": [],
   "source": [
    "avg_install_SN ={}\n",
    "total_install_SN = 0\n",
    "for app in android_free:\n",
    "    if app[1] == 'SOCIAL':\n",
    "        n_installs = app[5].replace('+','')\n",
    "        n_installs = n_installs.replace(',','')\n",
    "        total_install_SN += float(n_installs)\n",
    "        \n",
    "for app in android_free:\n",
    "    if app[1] == 'SOCIAL':\n",
    "        n_installs = app[5].replace('+','')\n",
    "        n_installs = n_installs.replace(',','')\n",
    "        percent_install_count = (float(n_installs)*100)/total_install_SN\n",
    "        #print (app[0], ':' ,percent_install_count ,'%' )\n",
    "        avg_install_SN[app[0]] = percent_install_count"
   ]
  },
  {
   "cell_type": "code",
   "execution_count": 104,
   "metadata": {},
   "outputs": [
    {
     "data": {
      "text/plain": [
       "[('Facebook', 18.222032876511694),\n",
       " ('Google+', 18.222032876511694),\n",
       " ('Instagram', 18.222032876511694),\n",
       " ('Facebook Lite', 9.111016438255847),\n",
       " ('Snapchat', 9.111016438255847),\n",
       " ('Tumblr', 1.8222032876511696),\n",
       " ('Pinterest', 1.8222032876511696),\n",
       " ('Badoo - Free Chat & Dating App', 1.8222032876511696),\n",
       " ('Tango - Live Video Broadcast', 1.8222032876511696),\n",
       " ('LinkedIn', 1.8222032876511696),\n",
       " ('Tik Tok - including musical.ly', 1.8222032876511696),\n",
       " ('BIGO LIVE - Live Stream', 1.8222032876511696),\n",
       " ('VK', 1.8222032876511696),\n",
       " ('ooVoo Video Calls, Messaging & Stories', 0.9111016438255848),\n",
       " ('MeetMe: Chat & Meet New People', 0.9111016438255848),\n",
       " ('Zello PTT Walkie Talkie', 0.9111016438255848),\n",
       " ('POF Free Dating App', 0.9111016438255848),\n",
       " ('SKOUT - Meet, Chat, Go Live', 0.9111016438255848),\n",
       " ('TextNow - free text + calls', 0.18222032876511696),\n",
       " ('LiveMe - Video chat, new friends, and make money', 0.18222032876511696),\n",
       " ('HTC Social Plugin - Facebook', 0.18222032876511696),\n",
       " ('Quora', 0.18222032876511696),\n",
       " ('Kate Mobile for VK', 0.18222032876511696),\n",
       " ('Text Me: Text Free, Call Free, Second Phone Number', 0.18222032876511696),\n",
       " ('Text free - Free Text + Call', 0.18222032876511696),\n",
       " ('YouNow: Live Stream Video Chat', 0.18222032876511696),\n",
       " ('We Heart It', 0.18222032876511696),\n",
       " ('Path', 0.18222032876511696),\n",
       " ('SayHi Chat, Meet New People', 0.18222032876511696),\n",
       " ('Tapatalk - 100,000+ Forums', 0.18222032876511696),\n",
       " ('LOVOO', 0.18222032876511696),\n",
       " ('Jaumo Dating, Flirt & Live Video', 0.18222032876511696),\n",
       " ('textPlus: Free Text & Calls', 0.18222032876511696),\n",
       " ('magicApp Calling & Messaging', 0.18222032876511696),\n",
       " ('Dating App, Flirt & Chat : W-Match', 0.18222032876511696),\n",
       " ('Tagged - Meet, Chat & Dating', 0.18222032876511696),\n",
       " ('Mico- Stranger Chat Random video Chat, Live, Meet', 0.18222032876511696),\n",
       " ('Waplog - Free Chat, Dating App, Meet Singles', 0.18222032876511696),\n",
       " ('Legend - Animate Text in Video', 0.18222032876511696),\n",
       " ('Find My Friends', 0.18222032876511696),\n",
       " ('Grindr - Gay chat', 0.18222032876511696),\n",
       " ('Periscope - Live Video', 0.18222032876511696),\n",
       " ('Free phone calls, free texting SMS on free number', 0.18222032876511696),\n",
       " ('Phone Tracker : Family Locator', 0.18222032876511696),\n",
       " ('Amino: Communities and Chats', 0.18222032876511696),\n",
       " ('Messages, Text and Video Chat for Messenger', 0.18222032876511696),\n",
       " ('Messenger Messenger', 0.18222032876511696),\n",
       " ('Messenger', 0.18222032876511696),\n",
       " ('Telegram X', 0.09111016438255848),\n",
       " ('Hide Something - Photo, Video', 0.09111016438255848),\n",
       " ('Web Browser & Fast Explorer', 0.09111016438255848),\n",
       " ('VidStatus app - Status Videos & Status Downloader', 0.09111016438255848),\n",
       " ('SPARK - Live random video chat & meet new people', 0.09111016438255848),\n",
       " ('Meet – Talk to Strangers Using Random Video Chat', 0.09111016438255848),\n",
       " ('Text Free: WiFi Calling App', 0.09111016438255848),\n",
       " ('Whisper', 0.09111016438255848),\n",
       " ('Blogger', 0.09111016438255848),\n",
       " ('Timehop', 0.09111016438255848),\n",
       " ('Nextdoor - Local neighborhood news & classifieds', 0.09111016438255848),\n",
       " ('Meetup', 0.09111016438255848),\n",
       " ('Instachat 😜', 0.09111016438255848),\n",
       " ('Fame Boom for Real Followers, Likes', 0.09111016438255848),\n",
       " ('HOLLA Live: Meet New People via Random Video Chat', 0.09111016438255848),\n",
       " ('Hornet - Gay Social Network', 0.09111016438255848),\n",
       " ('Who Viewed My Facebook Profile - Stalkers Visitors', 0.09111016438255848),\n",
       " ('FunForMobile Ringtones & Chat', 0.09111016438255848),\n",
       " ('Frim: get new friends on local chat rooms', 0.09111016438255848),\n",
       " ('The Messenger App', 0.018222032876511696),\n",
       " ('Messenger Pro', 0.018222032876511696),\n",
       " ('Free Messages, Video, Chat,Text for Messenger Plus', 0.018222032876511696),\n",
       " ('Jodel - The Hyperlocal App', 0.018222032876511696),\n",
       " ('Love Sticker', 0.018222032876511696),\n",
       " ('Love Images', 0.018222032876511696),\n",
       " ('Facebook Local', 0.018222032876511696),\n",
       " ('MobilePatrol Public Safety App', 0.018222032876511696),\n",
       " ('💘 WhatsLov: Smileys of love, stickers and GIF', 0.018222032876511696),\n",
       " ('Family GPS tracker KidControl + GPS by SMS Locator', 0.018222032876511696),\n",
       " ('Moment', 0.018222032876511696),\n",
       " ('TwitCasting Live', 0.018222032876511696),\n",
       " ('Banjo', 0.018222032876511696),\n",
       " ('Frontback - Social Photos', 0.018222032876511696),\n",
       " ('Couple - Relationship App', 0.018222032876511696),\n",
       " ('B-Messenger Video Chat', 0.018222032876511696),\n",
       " ('FollowMeter for Instagram', 0.018222032876511696),\n",
       " ('pixiv', 0.018222032876511696),\n",
       " ('U LIVE – Video Chat & Stream', 0.018222032876511696),\n",
       " ('VMate Lite - Funny Short Videos Social Network', 0.018222032876511696),\n",
       " ('GUYZ - Gay Chat & Gay Dating', 0.018222032876511696),\n",
       " ('Snaappy – 3D fun AR core communication platform', 0.018222032876511696),\n",
       " ('Lesbian Chat & Dating - SPICY', 0.018222032876511696),\n",
       " ('BOO! - Next Generation Messenger', 0.018222032876511696),\n",
       " ('Wishbone - Compare Anything', 0.018222032876511696),\n",
       " ('Fiesta by Tango - Find, Meet and Make New Friends', 0.018222032876511696),\n",
       " ('+Download 4 Instagram Twitter', 0.018222032876511696),\n",
       " ('EZ Video Download for Facebook', 0.018222032876511696),\n",
       " ('All Social Networks', 0.018222032876511696),\n",
       " ('Facebook Creator', 0.018222032876511696),\n",
       " ('Friendly for Facebook', 0.018222032876511696),\n",
       " ('Faster for Facebook Lite', 0.018222032876511696),\n",
       " ('Stickers for Facebook', 0.018222032876511696),\n",
       " ('Web Browser ( Fast & Secure Web Explorer)', 0.009111016438255848),\n",
       " (\"Bloglovin'\", 0.009111016438255848),\n",
       " ('Stream - Live Video Community', 0.009111016438255848),\n",
       " ('Mirrativ: Live Stream Any App', 0.009111016438255848),\n",
       " ('Greeting Cards & Wishes', 0.009111016438255848),\n",
       " ('Verdad o Reto', 0.009111016438255848),\n",
       " ('Gayvox - Gay Lesbian Bi Dating', 0.009111016438255848),\n",
       " ('Daddyhunt: Gay Dating', 0.009111016438255848),\n",
       " ('Fake Chat (Direct Message)', 0.009111016438255848),\n",
       " ('Qeek for Instagram - Zoom profile insta DP', 0.009111016438255848),\n",
       " ('Swift for Facebook Lite', 0.009111016438255848),\n",
       " ('Puffin for Facebook', 0.009111016438255848),\n",
       " ('Profile Tracker - Who Viewed My Facebook Profile', 0.009111016438255848),\n",
       " ('Pink Color for Facebook', 0.009111016438255848),\n",
       " ('Social network all in one 2018', 0.0018222032876511695),\n",
       " ('The Video Messenger App', 0.0018222032876511695),\n",
       " ('Blogaway for Android (Blogger)', 0.0018222032876511695),\n",
       " ('Patook - make platonic friends', 0.0018222032876511695),\n",
       " ('uCiC- Videos and Photos on demand', 0.0018222032876511695),\n",
       " ('KDRAMA Amino for K-Drama Fans', 0.0018222032876511695),\n",
       " ('KPOP Amino for K-Pop Entertainment', 0.0018222032876511695),\n",
       " ('See U - Random video chat, video chat', 0.0018222032876511695),\n",
       " ('What U See', 0.0018222032876511695),\n",
       " ('Meet U - Get Friends for Snapchat, Kik & Instagram', 0.0018222032876511695),\n",
       " ('YAY - TBH', 0.0018222032876511695),\n",
       " ('Dr B R Ambedkar (Jai Bhim)', 0.0018222032876511695),\n",
       " ('Dr. B.R.Ambedkar', 0.0018222032876511695),\n",
       " ('Dating.dk', 0.0018222032876511695),\n",
       " ('DP and Status for WhatsApp 2018', 0.0018222032876511695),\n",
       " ('MB Notifications for FB (Free)', 0.0018222032876511695),\n",
       " ('Phoenix - Facebook & Messenger', 0.0018222032876511695),\n",
       " ('Faster Social for Facebook', 0.0018222032876511695),\n",
       " ('FutureNet your social app', 0.0018222032876511695),\n",
       " ('Chat For Strangers - Video Chat', 0.0018222032876511695),\n",
       " ('Fr Daoud Lamei', 0.0018222032876511695),\n",
       " ('Golden telegram', 0.0009111016438255847),\n",
       " ('EXO-L Amino for EXO Fans', 0.0009111016438255847),\n",
       " ('Undertale AU Amino', 0.0009111016438255847),\n",
       " ('BT Dating -Find your match, help cupid, be social', 0.0009111016438255847),\n",
       " ('Hashtags For Likes.co', 0.0009111016438255847),\n",
       " ('CP Dialer', 0.0009111016438255847),\n",
       " ('Rande.cz', 0.0009111016438255847),\n",
       " ('Equestria Amino for MLP', 0.0009111016438255847),\n",
       " ('Anime et Manga Amino en Français', 0.0009111016438255847),\n",
       " ('FCB Connect - FC Barcelona', 0.0009111016438255847),\n",
       " ('Share G - Images Sharing - Wallpapers App', 0.00018222032876511694),\n",
       " ('Mali J', 0.00018222032876511694),\n",
       " ('U-Report', 0.00018222032876511694),\n",
       " ('Jamaa Amino for Animal Jam', 0.00018222032876511694),\n",
       " ('Au Pair', 0.00018222032876511694),\n",
       " ('BK Traffic Control cum Chart', 0.00018222032876511694),\n",
       " ('Daily Murli Saar Widget', 0.00018222032876511694),\n",
       " ('BT Communicator', 0.00018222032876511694),\n",
       " ('Digi-TV.ch', 0.00018222032876511694),\n",
       " ('Cyprus Police', 0.00018222032876511694),\n",
       " ('DM Me - Chat', 0.00018222032876511694),\n",
       " ('Best DP and Status', 0.00018222032876511694),\n",
       " ('Ek Maratha', 0.00018222032876511694),\n",
       " ('Eddsworld Amino', 0.00018222032876511694),\n",
       " ('Stickers for Imo, fb, whatsapp', 0.00018222032876511694),\n",
       " ('Lite Messenger for Facebook Lite', 0.00018222032876511694),\n",
       " ('Mini for Facebook lite', 0.00018222032876511694),\n",
       " ('Unlimited Group Links - Whatsapp, FB, Telegram', 0.00018222032876511694),\n",
       " ('DB Event App', 9.111016438255847e-05),\n",
       " ('DM for IG 😘 - Image & Video Saver for Instagram', 9.111016438255847e-05),\n",
       " ('Dp For Whatsapp', 9.111016438255847e-05),\n",
       " ('Profile Pictures and DP for Whatsapp', 9.111016438255847e-05),\n",
       " ('Dp for Facebook', 9.111016438255847e-05),\n",
       " ('Instant DP Downloader for Instagram', 9.111016438255847e-05),\n",
       " ('DP Display Pictures Life Quotes Motivational GM', 9.111016438255847e-05),\n",
       " ('TN e Sevai TN EB Bill Patta Citta EC Birth All Hub', 9.111016438255847e-05),\n",
       " ('TNEB Bill Online Payment (Tamil)', 9.111016438255847e-05),\n",
       " ('Check Your Visitors on FB ?', 9.111016438255847e-05),\n",
       " ('funny Image Comments for FB', 9.111016438255847e-05),\n",
       " ('H letter images', 1.8222032876511693e-05),\n",
       " ('Join R, Community Engagement', 1.8222032876511693e-05),\n",
       " ('V Bucks ProTips New', 1.8222032876511693e-05),\n",
       " ('eChallan Andhra Pradesh (AP)', 1.8222032876511693e-05),\n",
       " ('Media Sosial TNI AU', 1.8222032876511693e-05),\n",
       " ('BG LINKED (BGLINKED)', 1.8222032876511693e-05),\n",
       " ('Zdravei.BG', 1.8222032876511693e-05),\n",
       " ('BGKontakti Bayern BG Kontakti', 1.8222032876511693e-05),\n",
       " ('BGKontakti Vienna BG Kontakti', 1.8222032876511693e-05),\n",
       " ('BR Chat Bot', 1.8222032876511693e-05),\n",
       " ('Black Social', 1.8222032876511693e-05),\n",
       " ('CG Districts', 1.8222032876511693e-05),\n",
       " ('Students.ch', 1.8222032876511693e-05),\n",
       " ('signály.cz', 1.8222032876511693e-05),\n",
       " ('DC Comics Amino', 1.8222032876511693e-05),\n",
       " ('Noticias DF', 1.8222032876511693e-05),\n",
       " ('Auto DM for Twitter 🔥', 1.8222032876511693e-05),\n",
       " ('DW Streaming', 1.8222032876511693e-05),\n",
       " ('TN EC Online New', 1.8222032876511693e-05),\n",
       " ('Sabka Malik Ek Sai', 1.8222032876511693e-05),\n",
       " ('European Solidarity Corps', 1.8222032876511693e-05),\n",
       " ('Alarm.fo – choose your info', 1.8222032876511693e-05),\n",
       " ('iCard BD Plus', 9.111016438255847e-06),\n",
       " ('BGKontakti London BG Kontakti', 9.111016438255847e-06),\n",
       " ('Br Browser', 9.111016438255847e-06),\n",
       " ('DF BugMeNot', 9.111016438255847e-06),\n",
       " ('DK Murali', 9.111016438255847e-06),\n",
       " ('Downloader plus for FB', 9.111016438255847e-06),\n",
       " ('i-share AF/KLM (AFKL ishare)', 1.8222032876511696e-06),\n",
       " ('Eternal Light AG', 1.8222032876511696e-06),\n",
       " ('Message AI - Write Better Messages (Free)', 1.8222032876511696e-06),\n",
       " ('Movement BE', 1.8222032876511696e-06),\n",
       " ('Discípulos em BH', 1.8222032876511696e-06),\n",
       " ('Alumni BJ', 1.8222032876511696e-06),\n",
       " ('Myjob@BM', 1.8222032876511696e-06),\n",
       " ('Evasion.bz', 1.8222032876511696e-06),\n",
       " ('CJ Gospel Hour', 1.8222032876511696e-06),\n",
       " ('GirlTalk.dk', 1.8222032876511696e-06),\n",
       " ('DM Storage (for twitter)', 1.8222032876511696e-06),\n",
       " ('DV Statistics', 1.8222032876511696e-06),\n",
       " ('TN Patta /Chitta /EC New', 1.8222032876511696e-06),\n",
       " ('Rejoin Your Ex', 1.8222032876511696e-06),\n",
       " ('Frases Cristianas de Esperanza y Fe', 1.8222032876511696e-06),\n",
       " ('Naruto & Boruto FR', 1.8222032876511696e-06),\n",
       " ('UP EB Bill Payment & Details', 9.111016438255848e-07),\n",
       " ('EG Way Life', 9.111016438255848e-07),\n",
       " ('Coupe Adhémar EY 2017', 9.111016438255848e-07),\n",
       " ('FB Advanced Search', 9.111016438255848e-07),\n",
       " ('BA 3 Banjarmasin', 1.8222032876511695e-07),\n",
       " ('bm-Events', 1.8222032876511695e-07),\n",
       " ('Otto DM', 1.8222032876511695e-07),\n",
       " ('DN Blog', 1.8222032876511695e-07),\n",
       " ('News Dz', 1.8222032876511695e-07),\n",
       " ('quran-DZ', 1.8222032876511695e-07),\n",
       " ('Hum Ek Hain 2.02', 1.8222032876511695e-07),\n",
       " ('EO RAIPUR', 1.8222032876511695e-07),\n",
       " ('Reisedealz.eu', 1.8222032876511695e-07),\n",
       " ('CB Heroes', 9.111016438255847e-08),\n",
       " ('C.P. CERVANTES (TOBARRA)', 9.111016438255847e-08),\n",
       " ('BH Connect', 1.8222032876511695e-08),\n",
       " ('Amleen Ey', 1.8222032876511695e-08),\n",
       " ('Pekalongan CJ', 0.0)]"
      ]
     },
     "execution_count": 104,
     "metadata": {},
     "output_type": "execute_result"
    }
   ],
   "source": [
    "sorted(avg_install_SN.items(),key=operator.itemgetter(1), reverse = True)"
   ]
  },
  {
   "cell_type": "markdown",
   "metadata": {},
   "source": [
    "The percentage of installed rate in each app are more scatter than IOS. In the mean time there are so many competitor as well.\n",
    "\n",
    "Let's see the Communication genre"
   ]
  },
  {
   "cell_type": "code",
   "execution_count": 106,
   "metadata": {},
   "outputs": [],
   "source": [
    "avg_install_CM ={}\n",
    "total_install_CM = 0\n",
    "for app in android_free:\n",
    "    if app[1] == 'COMMUNICATION':\n",
    "        n_installs = app[5].replace('+','')\n",
    "        n_installs = n_installs.replace(',','')\n",
    "        total_install_CM += float(n_installs)\n",
    "        \n",
    "for app in android_free:\n",
    "    if app[1] == 'COMMUNICATION':\n",
    "        n_installs = app[5].replace('+','')\n",
    "        n_installs = n_installs.replace(',','')\n",
    "        percent_install_count = (float(n_installs)*100)/total_install_CM\n",
    "        #print (app[0], ':' ,percent_install_count ,'%' )\n",
    "        avg_install_CM[app[0]] = percent_install_count"
   ]
  },
  {
   "cell_type": "code",
   "execution_count": 107,
   "metadata": {},
   "outputs": [
    {
     "data": {
      "text/plain": [
       "[('WhatsApp Messenger', 9.060510090313125),\n",
       " ('Messenger – Text and Video Chat for Free', 9.060510090313125),\n",
       " ('Skype - free IM & video calls', 9.060510090313125),\n",
       " ('Google Chrome: Fast & Secure', 9.060510090313125),\n",
       " ('Gmail', 9.060510090313125),\n",
       " ('Hangouts', 9.060510090313125),\n",
       " ('Google Duo - High Quality Video Calls', 4.530255045156562),\n",
       " ('imo free video calls and chat', 4.530255045156562),\n",
       " ('LINE: Free Calls & Messages', 4.530255045156562),\n",
       " ('UC Browser - Fast Download Private & Secure', 4.530255045156562),\n",
       " ('Viber Messenger', 4.530255045156562),\n",
       " ('imo beta free calls and text', 0.9060510090313125),\n",
       " ('Android Messages', 0.9060510090313125),\n",
       " ('Who', 0.9060510090313125),\n",
       " ('GO SMS Pro - Messenger, Free Themes, Emoji', 0.9060510090313125),\n",
       " ('Firefox Browser fast & private', 0.9060510090313125),\n",
       " ('Messenger Lite: Free Calls & Messages', 0.9060510090313125),\n",
       " ('Kik', 0.9060510090313125),\n",
       " ('KakaoTalk: Free Calls & Text', 0.9060510090313125),\n",
       " ('Opera Mini - fast web browser', 0.9060510090313125),\n",
       " ('Opera Browser: Fast and Secure', 0.9060510090313125),\n",
       " ('Telegram', 0.9060510090313125),\n",
       " ('Truecaller: Caller ID, SMS spam blocking & Dialer', 0.9060510090313125),\n",
       " ('UC Browser Mini -Tiny Fast Private & Secure', 0.9060510090313125),\n",
       " ('WeChat', 0.9060510090313125),\n",
       " ('Yahoo Mail – Stay Organized', 0.9060510090313125),\n",
       " ('BBM - Free Calls & Messages', 0.9060510090313125),\n",
       " ('Contacts', 0.45302550451565626),\n",
       " ('free video calls and chat', 0.45302550451565626),\n",
       " ('Dolphin Browser - Fast, Private & Adblock🐬', 0.45302550451565626),\n",
       " ('Mail.Ru - Email App', 0.45302550451565626),\n",
       " ('Azar', 0.45302550451565626),\n",
       " ('CM Browser - Ad Blocker , Fast Download , Privacy', 0.45302550451565626),\n",
       " ('Zalo – Video Call', 0.45302550451565626),\n",
       " ('Messenger for SMS', 0.09060510090313124),\n",
       " ('Browser 4G', 0.09060510090313124),\n",
       " ('MegaFon Dashboard', 0.09060510090313124),\n",
       " ('ZenUI Dialer & Contacts', 0.09060510090313124),\n",
       " ('Cricket Visual Voicemail', 0.09060510090313124),\n",
       " ('Xperia Link™', 0.09060510090313124),\n",
       " ('TouchPal Keyboard - Fun Emoji & Android Keyboard', 0.09060510090313124),\n",
       " ('AT&T Visual Voicemail', 0.09060510090313124),\n",
       " ('GMX Mail', 0.09060510090313124),\n",
       " ('Omlet Chat', 0.09060510090313124),\n",
       " ('chomp SMS', 0.09060510090313124),\n",
       " ('Glide - Video Chat Messenger', 0.09060510090313124),\n",
       " ('Text SMS', 0.09060510090313124),\n",
       " ('Talkray - Free Calls & Texts', 0.09060510090313124),\n",
       " ('GroupMe', 0.09060510090313124),\n",
       " ('Contacts+', 0.09060510090313124),\n",
       " ('ExDialer - Dialer & Contacts', 0.09060510090313124),\n",
       " ('Hiya - Caller ID & Block', 0.09060510090313124),\n",
       " ('Mr. Number-Block calls & spam', 0.09060510090313124),\n",
       " ('Calls Blacklist - Call Blocker', 0.09060510090313124),\n",
       " ('myMail – Email for Hotmail, Gmail and Outlook Mail', 0.09060510090313124),\n",
       " ('GO Notifier', 0.09060510090313124),\n",
       " ('Discord - Chat for Gamers', 0.09060510090313124),\n",
       " ('Talkatone: Free Texts, Calls & Phone Number', 0.09060510090313124),\n",
       " ('Free WiFi Connect', 0.09060510090313124),\n",
       " ('Opera Mini browser beta', 0.09060510090313124),\n",
       " ('Psiphon Pro - The Internet Freedom VPN', 0.09060510090313124),\n",
       " ('ICQ — Video Calls & Chat Messenger', 0.09060510090313124),\n",
       " ('Portable Wi-Fi hotspot', 0.09060510090313124),\n",
       " ('WhatsApp Business', 0.09060510090313124),\n",
       " ('WhatsCall Free Global Phone Call App & Cheap Calls', 0.09060510090313124),\n",
       " ('Free Adblocker Browser - Adblock & Popup Blocker', 0.09060510090313124),\n",
       " ('Adblock Browser for Android', 0.09060510090313124),\n",
       " ('Puffin Web Browser', 0.09060510090313124),\n",
       " ('Google Voice', 0.09060510090313124),\n",
       " ('Google Allo', 0.09060510090313124),\n",
       " ('WEB.DE Mail', 0.09060510090313124),\n",
       " ('CallApp: Caller ID, Blocker & Phone Call Recorder', 0.09060510090313124),\n",
       " ('Whoscall - Caller ID & Block', 0.09060510090313124),\n",
       " ('DU Browser—Browse fast & fun', 0.09060510090313124),\n",
       " ('Orfox: Tor Browser for Android', 0.09060510090313124),\n",
       " ('Voxer Walkie Talkie Messenger', 0.09060510090313124),\n",
       " ('Hangouts Dialer - Call Phones', 0.09060510090313124),\n",
       " ('My Tele2', 0.04530255045156562),\n",
       " ('Call Free – Free Call', 0.04530255045156562),\n",
       " ('Web Browser & Explorer', 0.04530255045156562),\n",
       " ('Skype Lite - Free Video Call & Chat', 0.04530255045156562),\n",
       " ('My Vodacom SA', 0.04530255045156562),\n",
       " ('Microsoft Edge', 0.04530255045156562),\n",
       " ('Calls & Text by Mo+', 0.04530255045156562),\n",
       " ('Full Screen Caller ID', 0.04530255045156562),\n",
       " ('CIA - Caller ID & Call Blocker', 0.04530255045156562),\n",
       " ('Call Control - Call Blocker', 0.04530255045156562),\n",
       " ('Sync.ME – Caller ID & Block', 0.04530255045156562),\n",
       " ('K-9 Mail', 0.04530255045156562),\n",
       " ('Daum Mail - Next Mail', 0.04530255045156562),\n",
       " ('JusTalk - Free Video Calls and Fun Video Chat', 0.04530255045156562),\n",
       " ('AT&T Call Protect', 0.04530255045156562),\n",
       " ('Brave Browser: Fast AdBlocker', 0.04530255045156562),\n",
       " ('Ear Agent: Super Hearing', 0.04530255045156562),\n",
       " ('Bluetooth Auto Connect', 0.04530255045156562),\n",
       " ('Chrome Dev', 0.04530255045156562),\n",
       " ('CM Transfer - Share any files with friends nearby', 0.04530255045156562),\n",
       " ('Your Freedom VPN Client', 0.04530255045156562),\n",
       " ('Caller ID & Call Block - DU Caller', 0.04530255045156562),\n",
       " ('TracFone My Account', 0.009060510090313126),\n",
       " ('My magenta', 0.009060510090313126),\n",
       " ('Seznam.cz', 0.009060510090313126),\n",
       " ('Messaging+ SMS, MMS Free', 0.009060510090313126),\n",
       " ('mysms SMS Text Messaging Sync', 0.009060510090313126),\n",
       " ('2ndLine - Second Phone Number', 0.009060510090313126),\n",
       " ('Ninesky Browser', 0.009060510090313126),\n",
       " ('Ghostery Privacy Browser', 0.009060510090313126),\n",
       " ('InBrowser - Incognito Browsing', 0.009060510090313126),\n",
       " ('PHONE for Google Voice & GTalk', 0.009060510090313126),\n",
       " ('Safest Call Blocker', 0.009060510090313126),\n",
       " ('Should I Answer?', 0.009060510090313126),\n",
       " ('RocketDial Dialer & Contacts', 0.009060510090313126),\n",
       " ('True Contact - Real Caller ID', 0.009060510090313126),\n",
       " ('Video Caller Id', 0.009060510090313126),\n",
       " ('Burner - Free Phone Number', 0.009060510090313126),\n",
       " ('Caller ID +', 0.009060510090313126),\n",
       " ('Email TypeApp - Mail App', 0.009060510090313126),\n",
       " ('All Email Providers', 0.009060510090313126),\n",
       " ('Newton Mail - Email App for Gmail, Outlook, IMAP', 0.009060510090313126),\n",
       " ('mail.com mail', 0.009060510090313126),\n",
       " ('Vonage Mobile® Call Video Text', 0.009060510090313126),\n",
       " ('AntennaPict β', 0.009060510090313126),\n",
       " ('AT&T Messages for Tablet', 0.009060510090313126),\n",
       " ('Adblock Plus for Samsung Internet - Browse safe.', 0.009060510090313126),\n",
       " ('AW - free video calls and chat', 0.009060510090313126),\n",
       " ('BBMoji - Your personalized BBM Stickers', 0.009060510090313126),\n",
       " ('SW-100.tch by Callstel', 0.009060510090313126),\n",
       " ('Tiny Call Confirm', 0.009060510090313126),\n",
       " ('CB Radio Chat - for friends!', 0.009060510090313126),\n",
       " ('Virtual Walkie Talkie', 0.009060510090313126),\n",
       " ('ClanPlay: Community and Tools for Gamers', 0.009060510090313126),\n",
       " ('My Vodafone (GR)', 0.009060510090313126),\n",
       " ('DW Contacts & Phone & Dialer', 0.009060510090313126),\n",
       " ('Call Blocker - Blacklist, SMS Blocker', 0.009060510090313126),\n",
       " ('Web Browser for Android', 0.009060510090313126),\n",
       " ('Lite for Facebook Messenger', 0.009060510090313126),\n",
       " ('Wi-Fi Auto-connect', 0.009060510090313126),\n",
       " ('WeFi - Free Fast WiFi Connect & Find Wi-Fi Map', 0.009060510090313126),\n",
       " ('Firefox Focus: The privacy browser', 0.009060510090313126),\n",
       " ('Lightning Web Browser', 0.004530255045156563),\n",
       " ('Web Browser', 0.004530255045156563),\n",
       " ('SolMail - All-in-One email app', 0.004530255045156563),\n",
       " ('LokLok: Draw on a Lock Screen', 0.004530255045156563),\n",
       " ('U - Webinars, Meetings & Messenger', 0.004530255045156563),\n",
       " ('BD Data Plan (3G & 4G)', 0.004530255045156563),\n",
       " ('Talkie - Wi-Fi Calling, Chats, File Sharing', 0.004530255045156563),\n",
       " ('TownWiFi | Wi-Fi Everywhere', 0.004530255045156563),\n",
       " ('FreedomPop Messaging Phone/SIM', 0.004530255045156563),\n",
       " ('Antillean Gold Telegram (original version)', 0.0009060510090313125),\n",
       " ('K-@ Mail - Email App', 0.0009060510090313125),\n",
       " ('M star Dialer', 0.0009060510090313125),\n",
       " ('T-Mobile DIGITS', 0.0009060510090313125),\n",
       " ('PlacarTv Futebol Ao Vivo', 0.0009060510090313125),\n",
       " ('WiFi Access Point (hotspot)', 0.0009060510090313125),\n",
       " ('Baby Monitor AV', 0.0009060510090313125),\n",
       " ('AZ Browser. Private & Download', 0.0009060510090313125),\n",
       " ('BT MeetMe with Dolby Voice', 0.0009060510090313125),\n",
       " ('CB On Mobile', 0.0009060510090313125),\n",
       " ('Channel 19', 0.0009060510090313125),\n",
       " ('QRZ Assistant', 0.0009060510090313125),\n",
       " ('Morse Code Reader', 0.0009060510090313125),\n",
       " ('Goodbox - Mega App', 0.0009060510090313125),\n",
       " ('Everbridge', 0.0009060510090313125),\n",
       " ('Portable Wi-Fi hotspot Free', 0.0009060510090313125),\n",
       " ('N-Com Wizard', 0.00045302550451565627),\n",
       " ('X Browser', 0.00045302550451565627),\n",
       " ('BD Internet Packages (Updated)', 0.00045302550451565627),\n",
       " ('My BF App', 0.00045302550451565627),\n",
       " ('BT Messenger', 0.00045302550451565627),\n",
       " ('AudioBT: BT audio GPS/SMS/Text', 0.00045302550451565627),\n",
       " ('IZ2UUF Morse Koch CW', 0.00045302550451565627),\n",
       " ('3G DZ Configuration', 0.00045302550451565627),\n",
       " ('Free Wi-fi HotspoT', 0.00045302550451565627),\n",
       " ('HipChat - beta version', 0.00045302550451565627),\n",
       " ('Mail1Click - Secure Mail', 9.060510090313125e-05),\n",
       " ('m:go BiH', 9.060510090313125e-05),\n",
       " ('/u/app', 9.060510090313125e-05),\n",
       " ('[verify-U] VideoIdent', 9.060510090313125e-05),\n",
       " ('Ad Blocker Turbo - Adblocker Browser', 9.060510090313125e-05),\n",
       " ('Access Point Names', 9.060510090313125e-05),\n",
       " ('ClanHQ', 9.060510090313125e-05),\n",
       " ('BD Dialer', 9.060510090313125e-05),\n",
       " ('BF Browser by Betfilter - Stop Gambling Today!', 9.060510090313125e-05),\n",
       " ('DMR BrandMeister Tool', 9.060510090313125e-05),\n",
       " ('BT One Phone Mobile App', 9.060510090313125e-05),\n",
       " ('Feel Performer', 9.060510090313125e-05),\n",
       " ('Pocket Prefix Plus', 9.060510090313125e-05),\n",
       " ('Ham Radio Prefixes', 9.060510090313125e-05),\n",
       " ('Ring', 9.060510090313125e-05),\n",
       " ('Deaf World DW', 9.060510090313125e-05),\n",
       " ('Eg Call', 9.060510090313125e-05),\n",
       " ('Inbox.eu', 9.060510090313125e-05),\n",
       " ('EZ Wifi Notification', 9.060510090313125e-05),\n",
       " ('Jazz Wi-Fi', 9.060510090313125e-05),\n",
       " ('K-9 Material (unofficial)', 4.530255045156562e-05),\n",
       " ('AG Contacts, Lite edition', 4.530255045156562e-05),\n",
       " ('AK Phone', 4.530255045156562e-05),\n",
       " ('BD Live Call', 4.530255045156562e-05),\n",
       " ('BT One Voice mobile access', 4.530255045156562e-05),\n",
       " ('retteMi.ch', 4.530255045156562e-05),\n",
       " ('mail.co.uk Mail', 4.530255045156562e-05),\n",
       " ('CS Browser Beta', 4.530255045156562e-05),\n",
       " ('Learn Morse Code - G0HYN Learn Morse', 4.530255045156562e-05),\n",
       " ('DM for WhatsApp', 4.530255045156562e-05),\n",
       " ('DM Talk New', 4.530255045156562e-05),\n",
       " ('Ham DX Cluster & Spots Finder', 4.530255045156562e-05),\n",
       " ('Mircules DX Cluster Lite', 4.530255045156562e-05),\n",
       " ('love sms good morning', 4.530255045156562e-05),\n",
       " ('Council Voting Calculator', 4.530255045156562e-05),\n",
       " ('Sat-Fi', 4.530255045156562e-05),\n",
       " ('AU Call Blocker - Block Unwanted Calls Texts 2018', 9.060510090313124e-06),\n",
       " ('AV Phone', 9.060510090313124e-06),\n",
       " ('BH Mail', 9.060510090313124e-06),\n",
       " ('BK Chat', 9.060510090313124e-06),\n",
       " ('BN MALLORCA Radio', 9.060510090313124e-06),\n",
       " ('BQ Partners', 9.060510090313124e-06),\n",
       " ('CQ-Mobile', 9.060510090313124e-06),\n",
       " ('CS Customizer', 9.060510090313124e-06),\n",
       " ('CS Browser | #1 & BEST BROWSER', 9.060510090313124e-06),\n",
       " ('SMS Sender - sluzba.cz', 9.060510090313124e-06),\n",
       " ('cluster.dk', 9.060510090313124e-06),\n",
       " ('DM Tracker', 9.060510090313124e-06),\n",
       " ('Call Blocker & Blacklist', 9.060510090313124e-06),\n",
       " ('ReadyOp DT', 9.060510090313124e-06),\n",
       " ('BlueDV AMBE', 9.060510090313124e-06),\n",
       " ('EU Council', 9.060510090313124e-06),\n",
       " ('FC Browser - Focus Privacy Browser', 9.060510090313124e-06),\n",
       " ('Sat-Fi Voice', 9.060510090313124e-06),\n",
       " ('FO AIRBUS TLSE', 9.060510090313124e-06),\n",
       " ('Traffic signs BD', 4.530255045156562e-06),\n",
       " ('ATC Unico BS', 4.530255045156562e-06),\n",
       " ('CQ-Alert', 4.530255045156562e-06),\n",
       " ('CW BLE Peripheral Simulator', 4.530255045156562e-06),\n",
       " ('Rádio Sol Nascente DF', 4.530255045156562e-06),\n",
       " ('ES-1', 4.530255045156562e-06),\n",
       " ('Have your say on Europe', 4.530255045156562e-06),\n",
       " ('Best Auto Call Recorder Free', 4.530255045156562e-06),\n",
       " (\"Bee'ah Employee App\", 9.060510090313125e-07),\n",
       " ('tournaments and more.aj.2', 9.060510090313125e-07),\n",
       " ('Aj.Petra', 9.060510090313125e-07),\n",
       " ('Katalogen.ax', 9.060510090313125e-07),\n",
       " ('BV', 9.060510090313125e-07),\n",
       " ('CF Chat: Connecting Friends', 9.060510090313125e-07),\n",
       " ('CJ Browser - Fast & Private', 9.060510090313125e-07),\n",
       " ('CJ DVD Rentals', 9.060510090313125e-07),\n",
       " ('C W Browser', 9.060510090313125e-07),\n",
       " ('CW Bluetooth SPP', 9.060510090313125e-07),\n",
       " ('Cy Messenger', 9.060510090313125e-07),\n",
       " ('Amadeus GR & CY', 9.060510090313125e-07),\n",
       " ('DG Card', 9.060510090313125e-07),\n",
       " ('chat dz', 9.060510090313125e-07),\n",
       " ('[EF]ShoutBox', 9.060510090313125e-07),\n",
       " ('EP RSS Reader', 9.060510090313125e-07),\n",
       " ('Programi podrške EU', 9.060510090313125e-07),\n",
       " ('EHiN-FH conferenceapp', 9.060510090313125e-07),\n",
       " ('Carpooling FH Hagenberg', 9.060510090313125e-07),\n",
       " ('MARKET FO', 9.060510090313125e-07),\n",
       " ('FO OP St-Nazaire', 9.060510090313125e-07),\n",
       " ('FO SODEXO', 9.060510090313125e-07),\n",
       " ('FO RCBT', 9.060510090313125e-07),\n",
       " ('FO Interim', 9.060510090313125e-07),\n",
       " ('FO PSA Sept-Fons', 9.060510090313125e-07),\n",
       " ('FO STELIA Méaulte', 9.060510090313125e-07),\n",
       " ('FO AIRBUS Nantes', 9.060510090313125e-07),\n",
       " ('FP Connect', 9.060510090313125e-07),\n",
       " ('AC-BL', 4.5302550451565626e-07),\n",
       " ('BS-Mobile', 4.5302550451565626e-07),\n",
       " ('Cb browser', 4.5302550451565626e-07),\n",
       " ('Hyundai CX Conference', 4.5302550451565626e-07),\n",
       " ('DK TEL Dialer', 4.5302550451565626e-07),\n",
       " ('Oklahoma Ag Co-op Council', 9.060510090313125e-08),\n",
       " ('Best Browser BD social networking', 9.060510090313125e-08),\n",
       " ('BJ - Confidential', 9.060510090313125e-08),\n",
       " ('CK Call NEW', 9.060510090313125e-08),\n",
       " ('Hlášenírozhlasu.cz', 9.060510090313125e-08),\n",
       " ('DK Browser', 9.060510090313125e-08),\n",
       " ('DM - The Offical Messaging App', 9.060510090313125e-08),\n",
       " ('ei', 9.060510090313125e-08),\n",
       " ('EJ messenger', 9.060510090313125e-08),\n",
       " ('Ek IRA', 9.060510090313125e-08),\n",
       " ('EO Mumbai', 9.060510090313125e-08),\n",
       " ('FN Web Radio', 9.060510090313125e-08),\n",
       " ('FNH Payment Info', 9.060510090313125e-08),\n",
       " ('FP Live', 9.060510090313125e-08),\n",
       " ('Of the wall Arapaho bk', 4.5302550451565626e-08),\n",
       " ('Test Server SMS FA', 4.5302550451565626e-08),\n",
       " ('BA SALES', 9.060510090313125e-09)]"
      ]
     },
     "execution_count": 107,
     "metadata": {},
     "output_type": "execute_result"
    }
   ],
   "source": [
    "sorted(avg_install_CM.items(),key=operator.itemgetter(1), reverse = True)"
   ]
  },
  {
   "cell_type": "markdown",
   "metadata": {},
   "source": [
    "The percentage of installed rate in each app are very scatter. However user may spend more time in the app when they talk to Family or friends. Anyway it is a good option still. It depend on how we design to displayed ads on their chat screen.\n",
    "\n",
    "Let's see the 'VIDEO_PLAYERS' genre."
   ]
  },
  {
   "cell_type": "code",
   "execution_count": 110,
   "metadata": {},
   "outputs": [],
   "source": [
    "avg_install_VP ={}\n",
    "total_install_VP = 0\n",
    "for app in android_free:\n",
    "    if app[1] == 'VIDEO_PLAYERS':\n",
    "        n_installs = app[5].replace('+','')\n",
    "        n_installs = n_installs.replace(',','')\n",
    "        total_install_VP += float(n_installs)\n",
    "        \n",
    "for app in android_free:\n",
    "    if app[1] == 'VIDEO_PLAYERS':\n",
    "        n_installs = app[5].replace('+','')\n",
    "        n_installs = n_installs.replace(',','')\n",
    "        percent_install_count = (float(n_installs)*100)/total_install_VP\n",
    "        #print (app[0], ':' ,percent_install_count ,'%' )\n",
    "        avg_install_VP[app[0]] = percent_install_count"
   ]
  },
  {
   "cell_type": "code",
   "execution_count": 111,
   "metadata": {},
   "outputs": [
    {
     "data": {
      "text/plain": [
       "[('YouTube', 25.43408531444765),\n",
       " ('Google Play Movies & TV', 25.43408531444765),\n",
       " ('MX Player', 12.717042657223825),\n",
       " ('Motorola Gallery', 2.543408531444765),\n",
       " ('VLC for Android', 2.543408531444765),\n",
       " ('Dubsmash', 2.543408531444765),\n",
       " ('VivaVideo - Video Editor & Photo Movie', 2.543408531444765),\n",
       " ('VideoShow-Video Editor, Video Maker, Beauty Camera', 2.543408531444765),\n",
       " ('Motorola FM Radio', 2.543408531444765),\n",
       " ('Vote for', 1.2717042657223825),\n",
       " ('Vigo Video', 1.2717042657223825),\n",
       " ('MiniMovie - Free Video and Slideshow Editor', 1.2717042657223825),\n",
       " ('Samsung Video Library', 1.2717042657223825),\n",
       " ('LIKE – Magic Video Maker & Community', 1.2717042657223825),\n",
       " ('DU Recorder – Screen Recorder, Video Editor, Live', 1.2717042657223825),\n",
       " ('KineMaster – Pro Video Editor', 1.2717042657223825),\n",
       " ('VMate', 1.2717042657223825),\n",
       " ('HD Video Downloader : 2018 Best video mate', 1.2717042657223825),\n",
       " ('Ringdroid', 1.2717042657223825),\n",
       " ('Video Downloader', 0.2543408531444765),\n",
       " ('Video Player All Format', 0.2543408531444765),\n",
       " ('Code', 0.2543408531444765),\n",
       " ('Music - Mp3 Player', 0.2543408531444765),\n",
       " ('YouTube Studio', 0.2543408531444765),\n",
       " ('video player for android', 0.2543408531444765),\n",
       " ('HTC Service － DLNA', 0.2543408531444765),\n",
       " ('HTC Gallery', 0.2543408531444765),\n",
       " ('PowerDirector Video Editor App: 4K, Slow Mo & More', 0.2543408531444765),\n",
       " ('Cartoon Network App', 0.2543408531444765),\n",
       " ('Omlet Arcade - Stream, Meet, Play', 0.2543408531444765),\n",
       " ('Magisto Video Editor & Maker', 0.2543408531444765),\n",
       " ('Mobizen Screen Recorder for SAMSUNG', 0.2543408531444765),\n",
       " ('Ustream', 0.2543408531444765),\n",
       " ('All Video Downloader', 0.2543408531444765),\n",
       " ('FilmoraGo - Free Video Editor', 0.2543408531444765),\n",
       " ('iMediaShare – Photos & Music', 0.2543408531444765),\n",
       " ('AZ Screen Recorder - No Root', 0.2543408531444765),\n",
       " ('AfreecaTV', 0.2543408531444765),\n",
       " ('BSPlayer FREE', 0.2543408531444765),\n",
       " ('BitTorrent®- Torrent Downloads', 0.2543408531444765),\n",
       " ('Video Downloader - for Instagram Repost App', 0.2543408531444765),\n",
       " ('Quik – Free Video Editor for photos, clips, music', 0.2543408531444765),\n",
       " ('FrostWire: Torrent Downloader & Music Player', 0.2543408531444765),\n",
       " ('Inst Download - Video & Photo', 0.2543408531444765),\n",
       " ('Naruto Shippuden - Watch Free!', 0.2543408531444765),\n",
       " ('YouCut - Video Editor & Video Maker, No Watermark', 0.12717042657223826),\n",
       " ('HTC Service—Video Player', 0.12717042657223826),\n",
       " ('Droid Zap by Motorola', 0.12717042657223826),\n",
       " ('Video Editor', 0.12717042657223826),\n",
       " ('Adobe Premiere Clip', 0.12717042657223826),\n",
       " ('ActionDirector Video Editor - Edit Videos Fast', 0.12717042657223826),\n",
       " ('WiFi Baby Monitor - NannyCam', 0.12717042657223826),\n",
       " ('All Video Downloader 2018', 0.02543408531444765),\n",
       " ('HD Video Player', 0.02543408531444765),\n",
       " ('Iqiyi (for tablet)', 0.02543408531444765),\n",
       " ('XX HD Video downloader-Free Video Downloader', 0.02543408531444765),\n",
       " ('OBJECTIVE', 0.02543408531444765),\n",
       " ('HD Movie Video Player', 0.02543408531444765),\n",
       " ('Video Editor,Crop Video,Movie Video,Music,Effects', 0.02543408531444765),\n",
       " ('VPlayer', 0.02543408531444765),\n",
       " ('OnePlus Gallery', 0.02543408531444765),\n",
       " ('Play Tube', 0.02543408531444765),\n",
       " ('video player', 0.02543408531444765),\n",
       " ('G Guide Program Guide (SOFTBANK EMOBILE WILLCOM version)',\n",
       "  0.02543408531444765),\n",
       " ('Video.Guru - Video Maker', 0.02543408531444765),\n",
       " ('Video Status', 0.02543408531444765),\n",
       " ('SVT Play', 0.02543408531444765),\n",
       " ('BluTV', 0.02543408531444765),\n",
       " ('Tencent Video - Supporting the whole network', 0.02543408531444765),\n",
       " ('VUE: video editor & camcorder', 0.02543408531444765),\n",
       " ('Mobizen Screen Recorder for LG - Record, Capture', 0.02543408531444765),\n",
       " ('VidPlay', 0.02543408531444765),\n",
       " ('Multiple Videos at Same Time', 0.02543408531444765),\n",
       " ('AX Player -Nougat Video Player', 0.02543408531444765),\n",
       " ('Funny videos for whatsapp', 0.02543408531444765),\n",
       " ('iPlayIT for YouTube VR Player', 0.02543408531444765),\n",
       " ('BSPlayer ARMv7 VFP CPU support', 0.02543408531444765),\n",
       " ('Vuze Torrent Downloader', 0.02543408531444765),\n",
       " ('AndStream - Streaming Download', 0.02543408531444765),\n",
       " ('DS photo', 0.02543408531444765),\n",
       " ('DS video', 0.02543408531444765),\n",
       " ('DU Privacy-hide apps、sms、file', 0.02543408531444765),\n",
       " ('iSmart DV', 0.02543408531444765),\n",
       " ('EZCast – Cast Media to TV', 0.02543408531444765),\n",
       " ('HD Video Download for Facebook', 0.02543408531444765),\n",
       " ('Video Player All Format for Android', 0.012717042657223825),\n",
       " ('CJ VLC HD Remote (+ Stream)', 0.012717042657223825),\n",
       " ('DR TV', 0.012717042657223825),\n",
       " ('GoPlus Cam', 0.012717042657223825),\n",
       " ('Free TV series', 0.002543408531444765),\n",
       " ('amazer - Global Kpop Video Community', 0.002543408531444765),\n",
       " (\"Sketch 'n' go\", 0.002543408531444765),\n",
       " ('AB Repeat Player', 0.002543408531444765),\n",
       " ('Ez Screen Recorder (no ad)', 0.002543408531444765),\n",
       " ('AW Screen Recorder No Root', 0.002543408531444765),\n",
       " ('BGCN TV', 0.002543408531444765),\n",
       " ('Nero AirBurn', 0.002543408531444765),\n",
       " ('GoAction', 0.002543408531444765),\n",
       " ('ES Audio Player ( Shortcut )', 0.002543408531444765),\n",
       " ('EZ Web Video Cast | Chromecast', 0.002543408531444765),\n",
       " ('Video Downloader for FB : Video Download with Link', 0.002543408531444765),\n",
       " ('AX Video Player', 0.0012717042657223825),\n",
       " ('bgtime.tv', 0.0012717042657223825),\n",
       " ('BR Series', 0.0012717042657223825),\n",
       " ('ACTIVEON CX & CX GOLD', 0.0012717042657223825),\n",
       " ('dv Prompter', 0.0012717042657223825),\n",
       " ('ES-IPTV', 0.0012717042657223825),\n",
       " ('Casper Ssinema', 0.0002543408531444765),\n",
       " ('W Box VMS', 0.0002543408531444765),\n",
       " ('HD Video Player (wmv,avi,mp4,flv,av,mpg,mkv)2017', 0.0002543408531444765),\n",
       " ('EML UPnP-AV Control Point', 0.0002543408531444765),\n",
       " ('BK News Channel', 0.0002543408531444765),\n",
       " ('BS player remote', 0.0002543408531444765),\n",
       " ('DG UPnP Player Free', 0.0002543408531444765),\n",
       " ('DG Video Editor', 0.0002543408531444765),\n",
       " ('MelifeCam-M', 0.0002543408531444765),\n",
       " ('Downvids Helper - One touch DW', 0.0002543408531444765),\n",
       " ('ek tuhi', 0.0002543408531444765),\n",
       " ('EZ-SEE', 0.0002543408531444765),\n",
       " ('EZ TV Player', 0.0002543408531444765),\n",
       " ('EZ Usenet for Easynews®', 0.0002543408531444765),\n",
       " ('HD VideoDownlaoder For Fb : XXVideo Downloader', 0.0002543408531444765),\n",
       " ('M-Sight Pro', 0.00012717042657223824),\n",
       " ('Q-See Plus', 0.00012717042657223824),\n",
       " ('W Box VMS HD', 0.00012717042657223824),\n",
       " ('A-B repeater', 0.00012717042657223824),\n",
       " ('HD Video Player - Video & MP3 Player | AV Player |',\n",
       "  0.00012717042657223824),\n",
       " ('Ay', 0.00012717042657223824),\n",
       " ('BG video - floating video - background video', 0.00012717042657223824),\n",
       " ('BR Video Player', 0.00012717042657223824),\n",
       " ('DV Lottery Photo', 0.00012717042657223824),\n",
       " ('4K VIDEO PLAYER ULTRA HD', 0.00012717042657223824),\n",
       " ('DZ Popup Video Player', 0.00012717042657223824),\n",
       " ('EF Sidekick', 0.00012717042657223824),\n",
       " ('Furrion ES Control', 0.00012717042657223824),\n",
       " ('Videos downloader for Facebook:fast fb video saver',\n",
       "  0.00012717042657223824),\n",
       " ('AV-IPTV', 2.543408531444765e-05),\n",
       " ('Ay Sabz Gunbad Waly', 2.543408531444765e-05),\n",
       " ('Movie Downloader Torrent : Az Torrent', 2.543408531444765e-05),\n",
       " ('BC iptv player', 2.543408531444765e-05),\n",
       " ('Music for Youtube - Tube Music BG, Red+', 2.543408531444765e-05),\n",
       " ('CINE BR', 2.543408531444765e-05),\n",
       " ('BZ Langenthaler Tagblatt', 2.543408531444765e-05),\n",
       " ('EZ game screen recorder with audio 1080P', 2.543408531444765e-05),\n",
       " ('Video Wallpaper Show', 1.2717042657223825e-05),\n",
       " ('A-Z Screen Recorder -', 1.2717042657223825e-05),\n",
       " ('YourTube Video Views BG', 1.2717042657223825e-05),\n",
       " ('CJ Camcorder', 1.2717042657223825e-05),\n",
       " ('CX Monthly Tech News', 1.2717042657223825e-05),\n",
       " ('DG Screen Recorder', 1.2717042657223825e-05),\n",
       " ('AJ Player', 2.543408531444765e-06),\n",
       " ('AK Lodi Films', 2.543408531444765e-06),\n",
       " ('Bc Vod', 2.543408531444765e-06),\n",
       " ('BG MUSIC PLAYER - MUSIC PLAYER', 2.543408531444765e-06),\n",
       " ('Bx-WiFi-GI', 2.543408531444765e-06),\n",
       " ('EC MANAGER', 2.543408531444765e-06),\n",
       " ('List iptv FR', 2.543408531444765e-06),\n",
       " ('CI Stream', 2.543408531444765e-07),\n",
       " ('Art of F J Taylor', 2.543408531444765e-07)]"
      ]
     },
     "execution_count": 111,
     "metadata": {},
     "output_type": "execute_result"
    }
   ],
   "source": [
    "sorted(avg_install_VP.items(),key=operator.itemgetter(1), reverse = True)"
   ]
  },
  {
   "cell_type": "markdown",
   "metadata": {},
   "source": [
    "The top three application take so many percentage which is around 62%. \n",
    "\n",
    "As far as we explore from the top three genre, there still be no outstanding one. Let's see the genre that is similar to 'Reference' genre in IOS which is 'BOOKS_AND_REFERENCE' in number 11 in the list. \n"
   ]
  },
  {
   "cell_type": "code",
   "execution_count": 112,
   "metadata": {},
   "outputs": [],
   "source": [
    "avg_install_BR ={}\n",
    "total_install_BR = 0\n",
    "for app in android_free:\n",
    "    if app[1] == 'BOOKS_AND_REFERENCE':\n",
    "        n_installs = app[5].replace('+','')\n",
    "        n_installs = n_installs.replace(',','')\n",
    "        total_install_BR += float(n_installs)\n",
    "        \n",
    "for app in android_free:\n",
    "    if app[1] == 'BOOKS_AND_REFERENCE':\n",
    "        n_installs = app[5].replace('+','')\n",
    "        n_installs = n_installs.replace(',','')\n",
    "        percent_install_count = (float(n_installs)*100)/total_install_BR\n",
    "        avg_install_BR[app[0]] = percent_install_count"
   ]
  },
  {
   "cell_type": "code",
   "execution_count": 113,
   "metadata": {},
   "outputs": [
    {
     "data": {
      "text/plain": [
       "[('Google Play Books', 60.02817986887036),\n",
       " ('Bible', 6.002817986887036),\n",
       " ('Amazon Kindle', 6.002817986887036),\n",
       " ('Wattpad 📖 Free Books', 6.002817986887036),\n",
       " ('Audiobooks from Audible', 6.002817986887036),\n",
       " ('Wikipedia', 0.6002817986887036),\n",
       " ('Cool Reader', 0.6002817986887036),\n",
       " ('FBReader: Favorite Book Reader', 0.6002817986887036),\n",
       " ('HTC Help', 0.6002817986887036),\n",
       " ('Moon+ Reader', 0.6002817986887036),\n",
       " ('Aldiko Book Reader', 0.6002817986887036),\n",
       " ('Al-Quran (Free)', 0.6002817986887036),\n",
       " ('Al Quran Indonesia', 0.6002817986887036),\n",
       " (\"Al'Quran Bahasa Indonesia\", 0.6002817986887036),\n",
       " ('Quran for Android', 0.6002817986887036),\n",
       " ('Dictionary.com: Find Definitions for English Words', 0.6002817986887036),\n",
       " ('English Dictionary - Offline', 0.6002817986887036),\n",
       " ('NOOK: Read eBooks & Magazines', 0.6002817986887036),\n",
       " ('Dictionary', 0.6002817986887036),\n",
       " ('Spanish English Translator', 0.6002817986887036),\n",
       " ('Dictionary - Merriam-Webster', 0.6002817986887036),\n",
       " ('JW Library', 0.6002817986887036),\n",
       " ('Oxford Dictionary of English : Free', 0.6002817986887036),\n",
       " ('English Hindi Dictionary', 0.6002817986887036),\n",
       " ('AlReader -any text book reader', 0.3001408993443518),\n",
       " ('Ebook Reader', 0.3001408993443518),\n",
       " ('Read books online', 0.3001408993443518),\n",
       " ('Ancestry', 0.3001408993443518),\n",
       " ('Dictionary - WordWeb', 0.3001408993443518),\n",
       " ('50000 Free eBooks & Free AudioBooks', 0.3001408993443518),\n",
       " ('Al Quran : EAlim - Translations & MP3 Offline', 0.3001408993443518),\n",
       " ('Bible KJV', 0.3001408993443518),\n",
       " ('English to Hindi Dictionary', 0.3001408993443518),\n",
       " ('Book store', 0.06002817986887036),\n",
       " ('Free Books - Spirit Fanfiction and Stories', 0.06002817986887036),\n",
       " ('FamilySearch Tree', 0.06002817986887036),\n",
       " ('Cloud of Books', 0.06002817986887036),\n",
       " ('ReadEra – free ebook reader', 0.06002817986887036),\n",
       " ('eBoox: book reader fb2 epub zip', 0.06002817986887036),\n",
       " ('All Maths Formulas', 0.06002817986887036),\n",
       " ('English-Myanmar Dictionary', 0.06002817986887036),\n",
       " ('Golden Dictionary (EN-AR)', 0.06002817986887036),\n",
       " ('All Language Translator Free', 0.06002817986887036),\n",
       " ('Al Quran Al karim', 0.06002817986887036),\n",
       " ('Koran Read &MP3 30 Juz Offline', 0.06002817986887036),\n",
       " ('Hafizi Quran 15 lines per page', 0.06002817986887036),\n",
       " ('Satellite AR', 0.06002817986887036),\n",
       " ('Oxford A-Z of English Usage', 0.06002817986887036),\n",
       " ('Brilliant Quotes: Life, Love, Family & Motivation', 0.06002817986887036),\n",
       " ('Stats Royale for Clash Royale', 0.06002817986887036),\n",
       " ('wikiHow: how to do anything', 0.06002817986887036),\n",
       " ('EGW Writings', 0.06002817986887036),\n",
       " ('My Little Pony AR Guide', 0.06002817986887036),\n",
       " ('English Grammar Complete Handbook', 0.03001408993443518),\n",
       " ('Offline: English to Tagalog Dictionary', 0.03001408993443518),\n",
       " ('Recipes of Prophetic Medicine for free', 0.03001408993443518),\n",
       " ('English to Urdu Dictionary', 0.03001408993443518),\n",
       " ('English Persian Dictionary', 0.03001408993443518),\n",
       " ('Flybook', 0.03001408993443518),\n",
       " ('Only 30 days in English, the guideline is guaranteed', 0.03001408993443518),\n",
       " ('Azpen eReader', 0.03001408993443518),\n",
       " ('Google I/O 2018', 0.03001408993443518),\n",
       " ('Al Quran (Tafsir & by Word)', 0.03001408993443518),\n",
       " ('Al-Quran 30 Juz free copies', 0.03001408993443518),\n",
       " ('Youboox - Livres, BD et magazines', 0.03001408993443518),\n",
       " ('NOOK Audiobooks', 0.03001408993443518),\n",
       " ('NOOK App for NOOK Devices', 0.03001408993443518),\n",
       " ('SDA Sabbath School Quarterly', 0.03001408993443518),\n",
       " ('Golden Dictionary (FR-AR)', 0.03001408993443518),\n",
       " ('Download free book with green book', 0.006002817986887036),\n",
       " ('Free Panda Radio Music', 0.006002817986887036),\n",
       " ('Offline English Dictionary', 0.006002817986887036),\n",
       " ('Litnet - E-books', 0.006002817986887036),\n",
       " ('English translation from Bengali', 0.006002817986887036),\n",
       " ('Pdf Book Download - Read Pdf Book', 0.006002817986887036),\n",
       " ('Free Book Reader', 0.006002817986887036),\n",
       " ('URBANO V 02 instruction manual', 0.006002817986887036),\n",
       " ('Aab e Hayat Full Novel', 0.006002817986887036),\n",
       " ('V Made', 0.006002817986887036),\n",
       " ('Guide (for X-MEN)', 0.006002817986887036),\n",
       " ('Surah Al-Waqiah', 0.006002817986887036),\n",
       " ('Hisnul Al Muslim - Hisn Invocations & Adhkaar', 0.006002817986887036),\n",
       " ('cloudLibrary', 0.006002817986887036),\n",
       " ('Sabbath School', 0.006002817986887036),\n",
       " ('How to Write CV', 0.006002817986887036),\n",
       " ('EGW Writings 2', 0.006002817986887036),\n",
       " ('Bible with EGW Comments', 0.006002817986887036),\n",
       " ('Hymnes et Louanges', 0.006002817986887036),\n",
       " ('BakaReader EX', 0.006002817986887036),\n",
       " ('E-Book Read - Read Book for free', 0.003001408993443518),\n",
       " ('eBoox new: Reader for fb2 epub zip books', 0.003001408993443518),\n",
       " (\"SH-02J Owner's Manual (Android 8.0)\", 0.003001408993443518),\n",
       " ('C Programs and Reference', 0.003001408993443518),\n",
       " ('C Programs Handbook', 0.003001408993443518),\n",
       " ('Fertilizer Removal By Crop', 0.003001408993443518),\n",
       " ('Al-Muhaffiz', 0.003001408993443518),\n",
       " ('Bible du Semeur-BDS (French)', 0.003001408993443518),\n",
       " ('La citadelle du musulman', 0.003001408993443518),\n",
       " ('DV 2019 - EDV Photo & Form', 0.003001408993443518),\n",
       " ('EZ Quran', 0.003001408993443518),\n",
       " ('Anonymous caller detection', 0.0006002817986887036),\n",
       " ('R Language Reference Guide', 0.0006002817986887036),\n",
       " ('Ae Allah na Dai (Rasa)', 0.0006002817986887036),\n",
       " ('Ag PhD Field Guide', 0.0006002817986887036),\n",
       " ('Ag PhD Deficiencies', 0.0006002817986887036),\n",
       " (\"Kinot & Eichah for Tisha B'Av\", 0.0006002817986887036),\n",
       " ('Ay Hasnain k Nana Milad Naat', 0.0006002817986887036),\n",
       " ('Ay Mohabbat Teri Khatir Novel', 0.0006002817986887036),\n",
       " ('BD All Sim Offer', 0.0006002817986887036),\n",
       " ('B&H Kids AR', 0.0006002817986887036),\n",
       " ('Borneo Bible, BM Bible', 0.0006002817986887036),\n",
       " ('BR Ambedkar Biography & Quotes', 0.0006002817986887036),\n",
       " ('Kristian Hla Bu', 0.0006002817986887036),\n",
       " ('Bootable Methods(USB-CD-DVD)', 0.0006002817986887036),\n",
       " ('Easy Cv maker 2018', 0.0006002817986887036),\n",
       " ('Guide for DB Xenoverse', 0.0006002817986887036),\n",
       " ('Guide for DB Xenoverse 2', 0.0006002817986887036),\n",
       " ('DM Screen', 0.0006002817986887036),\n",
       " ('DV 2019 Entry Guide', 0.0006002817986887036),\n",
       " ('TN Patta Citta & EC', 0.0006002817986887036),\n",
       " ('AP Stamps and Registration', 0.0006002817986887036),\n",
       " ('English To Shona Dictionary', 0.0006002817986887036),\n",
       " ('Bulgarian French Dictionary Fr', 0.0006002817986887036),\n",
       " ('Learn R Programming Full', 0.0003001408993443518),\n",
       " ('AC Air condition Troubleshoot,Repair,Maintenance', 0.0003001408993443518),\n",
       " ('AW Tozer Devotionals - Daily', 0.0003001408993443518),\n",
       " ('AY Sing', 0.0003001408993443518),\n",
       " ('B y H Niños ES', 0.0003001408993443518),\n",
       " ('Browsery by Barnes & Noble', 0.0003001408993443518),\n",
       " ('CA Laws 2018 (California Laws and Codes)', 0.0003001408993443518),\n",
       " ('Learn CT Scan Of Head', 0.0003001408993443518),\n",
       " ('DC HSEMA', 0.0003001408993443518),\n",
       " ('Bilingual Dictionary Audio App', 0.0003001408993443518),\n",
       " ('EC - AP & Telangana', 0.0003001408993443518),\n",
       " ('Duaa Ek Ibaadat', 0.0003001408993443518),\n",
       " ('FA Part 1 & 2 Past Papers Solved Free – Offline', 0.0003001408993443518),\n",
       " ('Fanfic-FR', 0.0003001408993443518),\n",
       " ('C Offline Tutorial', 6.002817986887036e-05),\n",
       " ('R Programing Offline Tutorial', 6.002817986887036e-05),\n",
       " ('R Quick Reference Big Data', 6.002817986887036e-05),\n",
       " ('AE Bulletins', 6.002817986887036e-05),\n",
       " ('Ag PhD Planting Population Calculator', 6.002817986887036e-05),\n",
       " ('Ag PhD Soybean Diseases', 6.002817986887036e-05),\n",
       " ('Tozer Devotional -Series 1', 6.002817986887036e-05),\n",
       " ('The Pursuit of God', 6.002817986887036e-05),\n",
       " ('Arizona Statutes, ARS (AZ Law)', 6.002817986887036e-05),\n",
       " ('BD Fishpedia', 6.002817986887036e-05),\n",
       " ('BM Box', 6.002817986887036e-05),\n",
       " ('bp e-store', 6.002817986887036e-05),\n",
       " ('SA HLA BU', 6.002817986887036e-05),\n",
       " ('CW Nuclear', 6.002817986887036e-05),\n",
       " ('DC Public Library', 6.002817986887036e-05),\n",
       " ('Painting Lulu DC Super Friends', 6.002817986887036e-05),\n",
       " ('Fix Error Google Playstore', 6.002817986887036e-05),\n",
       " ('D. H. Lawrence Poems FREE', 6.002817986887036e-05),\n",
       " (\"Dr. Doug's Tips\", 6.002817986887036e-05),\n",
       " ('DV 2018 Winners Guide', 6.002817986887036e-05),\n",
       " ('EB Annual Meetings', 6.002817986887036e-05),\n",
       " ('EP Research Service', 6.002817986887036e-05),\n",
       " ('EU Charter', 6.002817986887036e-05),\n",
       " ('EU Data Protection', 6.002817986887036e-05),\n",
       " ('La Fe de Jesus', 6.002817986887036e-05),\n",
       " ('Florida - Pocket Brainbook', 6.002817986887036e-05),\n",
       " ('Florida Statutes (FL Code)', 6.002817986887036e-05),\n",
       " ('Greek Bible FP (Audio)', 6.002817986887036e-05),\n",
       " ('Chemin (fr)', 6.002817986887036e-05),\n",
       " ('The SCP Foundation DB fr nn5n', 6.002817986887036e-05),\n",
       " ('Catholic La Bu Zo Kam', 3.001408993443518e-05),\n",
       " ('Learn SAP BW', 3.001408993443518e-05),\n",
       " ('Learn SAP BW on HANA', 3.001408993443518e-05),\n",
       " ('SDA Collegiate Quarterly', 3.001408993443518e-05),\n",
       " ('Modlitební knížka CZ', 3.001408993443518e-05),\n",
       " ('La Fe de Jesús', 3.001408993443518e-05),\n",
       " ('Le Fe de Jesus', 3.001408993443518e-05),\n",
       " ('MOD Black for BM', 6.002817986887036e-06),\n",
       " ('Anime Mod for BM', 6.002817986887036e-06),\n",
       " ('BU Alsace', 6.002817986887036e-06),\n",
       " ('Cypress College Library', 6.002817986887036e-06),\n",
       " ('CompactiMa EC pH Calibration', 6.002817986887036e-06),\n",
       " ('EU IP Codes', 6.002817986887036e-06),\n",
       " ('A-J Media Vault', 3.001408993443518e-06),\n",
       " ('GATE 21 years CS Papers(2011-2018 Solved)', 3.001408993443518e-06),\n",
       " ('Learn R Programming', 6.002817986887036e-07),\n",
       " ('Khrifa Hla Bu (Solfa)', 6.002817986887036e-07),\n",
       " ('CY Spray nozzle', 6.002817986887036e-07),\n",
       " ('Guide for IMS DB', 6.002817986887036e-07),\n",
       " ('Guide for R Programming', 3.001408993443518e-07),\n",
       " ('BibleRead En Cy Zh Yue', 3.001408993443518e-07),\n",
       " ('CZ-Help', 3.001408993443518e-07),\n",
       " ('EW PDF', 3.001408993443518e-07)]"
      ]
     },
     "execution_count": 113,
     "metadata": {},
     "output_type": "execute_result"
    }
   ],
   "source": [
    "sorted(avg_install_BR.items(),key=operator.itemgetter(1), reverse = True)"
   ]
  },
  {
   "cell_type": "markdown",
   "metadata": {},
   "source": [
    "'Google Play Books' has very high rank in this genre which is about 60%. It lead the second place which is 'Bible' so much. There are a lot of competitor as well."
   ]
  },
  {
   "cell_type": "markdown",
   "metadata": {},
   "source": [
    "## Conclusions\n",
    "In conclusion of both market , Social media are popular in both market but the percentage are mostly toward a few famous applications and there are so many competitor as well. Reference genre is less competitor in IOS store and not in too low rank in Google play store. There may be a lot of room for creativity and may have a chance to be outstanding."
   ]
  }
 ],
 "metadata": {
  "kernelspec": {
   "display_name": "Python 3",
   "language": "python",
   "name": "python3"
  },
  "language_info": {
   "codemirror_mode": {
    "name": "ipython",
    "version": 3
   },
   "file_extension": ".py",
   "mimetype": "text/x-python",
   "name": "python",
   "nbconvert_exporter": "python",
   "pygments_lexer": "ipython3",
   "version": "3.7.7"
  }
 },
 "nbformat": 4,
 "nbformat_minor": 4
}
